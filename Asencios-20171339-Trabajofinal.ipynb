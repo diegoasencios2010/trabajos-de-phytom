{
 "cells": [
  {
   "cell_type": "markdown",
   "id": "575969cd",
   "metadata": {},
   "source": [
    "Trabajo final del curso de actividades sociales 1 (2021-1)\n",
    "\n",
    "Alumno: Diego Cesar Andres Asencios Ore\n",
    "\n",
    "Codigo: 20171339\n",
    "\n",
    "Tema: Seguridad y niveles de terrorismo en los paises"
   ]
  },
  {
   "cell_type": "code",
   "execution_count": 6,
   "id": "915f1002",
   "metadata": {},
   "outputs": [],
   "source": [
    "import altair as alt\n",
    "import pandas as pd\n",
    "import numpy as np"
   ]
  },
  {
   "cell_type": "markdown",
   "id": "23cb23c6",
   "metadata": {},
   "source": [
    "La base de datos se ha obtenido del curso de Estadistica para el analisis estadistico 1"
   ]
  },
  {
   "cell_type": "code",
   "execution_count": 45,
   "id": "545a933b",
   "metadata": {},
   "outputs": [
    {
     "data": {
      "text/html": [
       "<div>\n",
       "<style scoped>\n",
       "    .dataframe tbody tr th:only-of-type {\n",
       "        vertical-align: middle;\n",
       "    }\n",
       "\n",
       "    .dataframe tbody tr th {\n",
       "        vertical-align: top;\n",
       "    }\n",
       "\n",
       "    .dataframe thead th {\n",
       "        text-align: right;\n",
       "    }\n",
       "</style>\n",
       "<table border=\"1\" class=\"dataframe\">\n",
       "  <thead>\n",
       "    <tr style=\"text-align: right;\">\n",
       "      <th></th>\n",
       "      <th>Orden</th>\n",
       "      <th>Continente</th>\n",
       "      <th>Pais</th>\n",
       "      <th>t_ataques</th>\n",
       "      <th>t_lesiones</th>\n",
       "      <th>t_muertes</th>\n",
       "    </tr>\n",
       "  </thead>\n",
       "  <tbody>\n",
       "    <tr>\n",
       "      <th>0</th>\n",
       "      <td>1</td>\n",
       "      <td>Asia</td>\n",
       "      <td>Afghanistan</td>\n",
       "      <td>2024</td>\n",
       "      <td>4789</td>\n",
       "      <td>4200</td>\n",
       "    </tr>\n",
       "    <tr>\n",
       "      <th>1</th>\n",
       "      <td>2</td>\n",
       "      <td>Europe</td>\n",
       "      <td>Albania</td>\n",
       "      <td>54</td>\n",
       "      <td>20</td>\n",
       "      <td>6</td>\n",
       "    </tr>\n",
       "    <tr>\n",
       "      <th>2</th>\n",
       "      <td>3</td>\n",
       "      <td>Africa</td>\n",
       "      <td>Algeria</td>\n",
       "      <td>319</td>\n",
       "      <td>1890</td>\n",
       "      <td>1302</td>\n",
       "    </tr>\n",
       "    <tr>\n",
       "      <th>3</th>\n",
       "      <td>4</td>\n",
       "      <td>Africa</td>\n",
       "      <td>Angola</td>\n",
       "      <td>73</td>\n",
       "      <td>216</td>\n",
       "      <td>358</td>\n",
       "    </tr>\n",
       "    <tr>\n",
       "      <th>4</th>\n",
       "      <td>5</td>\n",
       "      <td>South America</td>\n",
       "      <td>Argentina</td>\n",
       "      <td>267</td>\n",
       "      <td>516</td>\n",
       "      <td>175</td>\n",
       "    </tr>\n",
       "    <tr>\n",
       "      <th>...</th>\n",
       "      <td>...</td>\n",
       "      <td>...</td>\n",
       "      <td>...</td>\n",
       "      <td>...</td>\n",
       "      <td>...</td>\n",
       "      <td>...</td>\n",
       "    </tr>\n",
       "    <tr>\n",
       "      <th>158</th>\n",
       "      <td>159</td>\n",
       "      <td>Asia</td>\n",
       "      <td>Vietnam</td>\n",
       "      <td>3</td>\n",
       "      <td>132</td>\n",
       "      <td>1</td>\n",
       "    </tr>\n",
       "    <tr>\n",
       "      <th>159</th>\n",
       "      <td>160</td>\n",
       "      <td>Africa</td>\n",
       "      <td>Western Sahara</td>\n",
       "      <td>3</td>\n",
       "      <td>3</td>\n",
       "      <td>9</td>\n",
       "    </tr>\n",
       "    <tr>\n",
       "      <th>160</th>\n",
       "      <td>161</td>\n",
       "      <td>Asia</td>\n",
       "      <td>Yemen</td>\n",
       "      <td>136</td>\n",
       "      <td>328</td>\n",
       "      <td>138</td>\n",
       "    </tr>\n",
       "    <tr>\n",
       "      <th>161</th>\n",
       "      <td>162</td>\n",
       "      <td>Africa</td>\n",
       "      <td>Zambia</td>\n",
       "      <td>9</td>\n",
       "      <td>34</td>\n",
       "      <td>10</td>\n",
       "    </tr>\n",
       "    <tr>\n",
       "      <th>162</th>\n",
       "      <td>163</td>\n",
       "      <td>Africa</td>\n",
       "      <td>Zimbabwe</td>\n",
       "      <td>28</td>\n",
       "      <td>108</td>\n",
       "      <td>78</td>\n",
       "    </tr>\n",
       "  </tbody>\n",
       "</table>\n",
       "<p>163 rows × 6 columns</p>\n",
       "</div>"
      ],
      "text/plain": [
       "     Orden     Continente            Pais  t_ataques  t_lesiones  t_muertes\n",
       "0        1           Asia     Afghanistan       2024        4789       4200\n",
       "1        2         Europe         Albania         54          20          6\n",
       "2        3         Africa         Algeria        319        1890       1302\n",
       "3        4         Africa          Angola         73         216        358\n",
       "4        5  South America       Argentina        267         516        175\n",
       "..     ...            ...             ...        ...         ...        ...\n",
       "158    159           Asia         Vietnam          3         132          1\n",
       "159    160         Africa  Western Sahara          3           3          9\n",
       "160    161           Asia           Yemen        136         328        138\n",
       "161    162         Africa          Zambia          9          34         10\n",
       "162    163         Africa        Zimbabwe         28         108         78\n",
       "\n",
       "[163 rows x 6 columns]"
      ]
     },
     "execution_count": 45,
     "metadata": {},
     "output_type": "execute_result"
    }
   ],
   "source": [
    "data = \"https://raw.githubusercontent.com/JairAlva/Estadistica-II/master/PC1.csv\"\n",
    "\n",
    "terrorismo = pd.read_csv(data)\n",
    "terrorismo\n",
    "cabecera =[\"Orden\", \"Continente\", \"Pais\", \"t_ataques\", \"t_lesiones\", \"t_muertes\"]\n",
    "terrorismo.columns = cabecera\n",
    "terrorismo.dropna\n",
    "terrorismo"
   ]
  },
  {
   "cell_type": "markdown",
   "id": "18c3a53e",
   "metadata": {},
   "source": [
    "Se realizaran 3 graficos sobre el tema"
   ]
  },
  {
   "cell_type": "markdown",
   "id": "daed9320",
   "metadata": {},
   "source": [
    "Primer grafico es sobre la relacion entre los paises y los ataques terroristas."
   ]
  },
  {
   "cell_type": "code",
   "execution_count": 46,
   "id": "adcd71d3",
   "metadata": {},
   "outputs": [
    {
     "data": {
      "text/html": [
       "\n",
       "<div id=\"altair-viz-d91484234d4a4eeebf351c0331bfc17d\"></div>\n",
       "<script type=\"text/javascript\">\n",
       "  (function(spec, embedOpt){\n",
       "    let outputDiv = document.currentScript.previousElementSibling;\n",
       "    if (outputDiv.id !== \"altair-viz-d91484234d4a4eeebf351c0331bfc17d\") {\n",
       "      outputDiv = document.getElementById(\"altair-viz-d91484234d4a4eeebf351c0331bfc17d\");\n",
       "    }\n",
       "    const paths = {\n",
       "      \"vega\": \"https://cdn.jsdelivr.net/npm//vega@5?noext\",\n",
       "      \"vega-lib\": \"https://cdn.jsdelivr.net/npm//vega-lib?noext\",\n",
       "      \"vega-lite\": \"https://cdn.jsdelivr.net/npm//vega-lite@4.8.1?noext\",\n",
       "      \"vega-embed\": \"https://cdn.jsdelivr.net/npm//vega-embed@6?noext\",\n",
       "    };\n",
       "\n",
       "    function loadScript(lib) {\n",
       "      return new Promise(function(resolve, reject) {\n",
       "        var s = document.createElement('script');\n",
       "        s.src = paths[lib];\n",
       "        s.async = true;\n",
       "        s.onload = () => resolve(paths[lib]);\n",
       "        s.onerror = () => reject(`Error loading script: ${paths[lib]}`);\n",
       "        document.getElementsByTagName(\"head\")[0].appendChild(s);\n",
       "      });\n",
       "    }\n",
       "\n",
       "    function showError(err) {\n",
       "      outputDiv.innerHTML = `<div class=\"error\" style=\"color:red;\">${err}</div>`;\n",
       "      throw err;\n",
       "    }\n",
       "\n",
       "    function displayChart(vegaEmbed) {\n",
       "      vegaEmbed(outputDiv, spec, embedOpt)\n",
       "        .catch(err => showError(`Javascript Error: ${err.message}<br>This usually means there's a typo in your chart specification. See the javascript console for the full traceback.`));\n",
       "    }\n",
       "\n",
       "    if(typeof define === \"function\" && define.amd) {\n",
       "      requirejs.config({paths});\n",
       "      require([\"vega-embed\"], displayChart, err => showError(`Error loading script: ${err.message}`));\n",
       "    } else if (typeof vegaEmbed === \"function\") {\n",
       "      displayChart(vegaEmbed);\n",
       "    } else {\n",
       "      loadScript(\"vega\")\n",
       "        .then(() => loadScript(\"vega-lite\"))\n",
       "        .then(() => loadScript(\"vega-embed\"))\n",
       "        .catch(showError)\n",
       "        .then(() => displayChart(vegaEmbed));\n",
       "    }\n",
       "  })({\"config\": {\"view\": {\"continuousWidth\": 400, \"continuousHeight\": 300}}, \"data\": {\"name\": \"data-605c99f9e89fd66a13f5d1ca435603b1\"}, \"mark\": \"rect\", \"$schema\": \"https://vega.github.io/schema/vega-lite/v4.8.1.json\", \"datasets\": {\"data-605c99f9e89fd66a13f5d1ca435603b1\": [{\"Orden\": 1, \"Continente\": \"Asia\", \"Pais\": \"Afghanistan\", \"t_ataques\": 2024, \"t_lesiones\": 4789, \"t_muertes\": 4200}, {\"Orden\": 2, \"Continente\": \"Europe\", \"Pais\": \"Albania\", \"t_ataques\": 54, \"t_lesiones\": 20, \"t_muertes\": 6}, {\"Orden\": 3, \"Continente\": \"Africa\", \"Pais\": \"Algeria\", \"t_ataques\": 319, \"t_lesiones\": 1890, \"t_muertes\": 1302}, {\"Orden\": 4, \"Continente\": \"Africa\", \"Pais\": \"Angola\", \"t_ataques\": 73, \"t_lesiones\": 216, \"t_muertes\": 358}, {\"Orden\": 5, \"Continente\": \"South America\", \"Pais\": \"Argentina\", \"t_ataques\": 267, \"t_lesiones\": 516, \"t_muertes\": 175}, {\"Orden\": 6, \"Continente\": \"Europe\", \"Pais\": \"Armenia\", \"t_ataques\": 8, \"t_lesiones\": 1, \"t_muertes\": 2}, {\"Orden\": 7, \"Continente\": \"Asia\", \"Pais\": \"Armenia\", \"t_ataques\": 8, \"t_lesiones\": 1, \"t_muertes\": 2}, {\"Orden\": 8, \"Continente\": \"Oceania\", \"Pais\": \"Australia\", \"t_ataques\": 33, \"t_lesiones\": 11, \"t_muertes\": 9}, {\"Orden\": 9, \"Continente\": \"Europe\", \"Pais\": \"Austria\", \"t_ataques\": 62, \"t_lesiones\": 117, \"t_muertes\": 17}, {\"Orden\": 10, \"Continente\": \"Asia\", \"Pais\": \"Azerbaijan\", \"t_ataques\": 9, \"t_lesiones\": 68, \"t_muertes\": 26}, {\"Orden\": 11, \"Continente\": \"Europe\", \"Pais\": \"Azerbaijan\", \"t_ataques\": 9, \"t_lesiones\": 68, \"t_muertes\": 26}, {\"Orden\": 12, \"Continente\": \"North America\", \"Pais\": \"Bahamas\", \"t_ataques\": 2, \"t_lesiones\": 0, \"t_muertes\": 1}, {\"Orden\": 13, \"Continente\": \"Asia\", \"Pais\": \"Bahrain\", \"t_ataques\": 18, \"t_lesiones\": 11, \"t_muertes\": 13}, {\"Orden\": 14, \"Continente\": \"Asia\", \"Pais\": \"Bangladesh\", \"t_ataques\": 155, \"t_lesiones\": 2208, \"t_muertes\": 231}, {\"Orden\": 15, \"Continente\": \"North America\", \"Pais\": \"Barbados\", \"t_ataques\": 2, \"t_lesiones\": 0, \"t_muertes\": 73}, {\"Orden\": 16, \"Continente\": \"Europe\", \"Pais\": \"Belarus\", \"t_ataques\": 2, \"t_lesiones\": 0, \"t_muertes\": 0}, {\"Orden\": 17, \"Continente\": \"Europe\", \"Pais\": \"Belgium\", \"t_ataques\": 0, \"t_lesiones\": 0, \"t_muertes\": 0}, {\"Orden\": 18, \"Continente\": \"North America\", \"Pais\": \"Belize\", \"t_ataques\": 1, \"t_lesiones\": 0, \"t_muertes\": 0}, {\"Orden\": 19, \"Continente\": \"Africa\", \"Pais\": \"Benin\", \"t_ataques\": 1, \"t_lesiones\": 3, \"t_muertes\": 0}, {\"Orden\": 20, \"Continente\": \"Asia\", \"Pais\": \"Bhutan\", \"t_ataques\": 12, \"t_lesiones\": 3, \"t_muertes\": 0}, {\"Orden\": 21, \"Continente\": \"South America\", \"Pais\": \"Bolivia\", \"t_ataques\": 79, \"t_lesiones\": 41, \"t_muertes\": 10}, {\"Orden\": 22, \"Continente\": \"Europe\", \"Pais\": \"Bosnia and Herzegovina\", \"t_ataques\": 114, \"t_lesiones\": 39, \"t_muertes\": 18}, {\"Orden\": 23, \"Continente\": \"Africa\", \"Pais\": \"Botswana\", \"t_ataques\": 3, \"t_lesiones\": 0, \"t_muertes\": 2}, {\"Orden\": 24, \"Continente\": \"South America\", \"Pais\": \"Brazil\", \"t_ataques\": 53, \"t_lesiones\": 50, \"t_muertes\": 10}, {\"Orden\": 25, \"Continente\": \"Europe\", \"Pais\": \"Bulgaria\", \"t_ataques\": 12, \"t_lesiones\": 0, \"t_muertes\": 2}, {\"Orden\": 26, \"Continente\": \"Africa\", \"Pais\": \"Burundi\", \"t_ataques\": 14, \"t_lesiones\": 29, \"t_muertes\": 27}, {\"Orden\": 27, \"Continente\": \"Asia\", \"Pais\": \"Cambodia\", \"t_ataques\": 60, \"t_lesiones\": 188, \"t_muertes\": 77}, {\"Orden\": 28, \"Continente\": \"North America\", \"Pais\": \"Canada\", \"t_ataques\": 34, \"t_lesiones\": 51, \"t_muertes\": 338}, {\"Orden\": 29, \"Continente\": \"Africa\", \"Pais\": \"Central African Republic\", \"t_ataques\": 1, \"t_lesiones\": 7, \"t_muertes\": 0}, {\"Orden\": 30, \"Continente\": \"Africa\", \"Pais\": \"Chad\", \"t_ataques\": 12, \"t_lesiones\": 25, \"t_muertes\": 180}, {\"Orden\": 31, \"Continente\": \"South America\", \"Pais\": \"Chile\", \"t_ataques\": 0, \"t_lesiones\": 0, \"t_muertes\": 0}, {\"Orden\": 32, \"Continente\": \"Asia\", \"Pais\": \"China\", \"t_ataques\": 28, \"t_lesiones\": 172, \"t_muertes\": 100}, {\"Orden\": 33, \"Continente\": \"South America\", \"Pais\": \"Colombia\", \"t_ataques\": 1913, \"t_lesiones\": 2748, \"t_muertes\": 1615}, {\"Orden\": 34, \"Continente\": \"Africa\", \"Pais\": \"Congo\", \"t_ataques\": 2, \"t_lesiones\": 1, \"t_muertes\": 1}, {\"Orden\": 35, \"Continente\": \"Africa\", \"Pais\": \"Congo\", \"t_ataques\": 2, \"t_lesiones\": 1, \"t_muertes\": 1}, {\"Orden\": 36, \"Continente\": \"North America\", \"Pais\": \"Costa Rica\", \"t_ataques\": 0, \"t_lesiones\": 0, \"t_muertes\": 0}, {\"Orden\": 37, \"Continente\": \"Africa\", \"Pais\": \"Cote d'Ivoire\", \"t_ataques\": 3, \"t_lesiones\": 0, \"t_muertes\": 3}, {\"Orden\": 38, \"Continente\": \"Europe\", \"Pais\": \"Croatia\", \"t_ataques\": 23, \"t_lesiones\": 41, \"t_muertes\": 2}, {\"Orden\": 39, \"Continente\": \"North America\", \"Pais\": \"Cuba\", \"t_ataques\": 19, \"t_lesiones\": 4, \"t_muertes\": 2}, {\"Orden\": 40, \"Continente\": \"Asia\", \"Pais\": \"Cyprus\", \"t_ataques\": 72, \"t_lesiones\": 67, \"t_muertes\": 25}, {\"Orden\": 41, \"Continente\": \"Europe\", \"Pais\": \"Cyprus\", \"t_ataques\": 72, \"t_lesiones\": 67, \"t_muertes\": 25}, {\"Orden\": 42, \"Continente\": \"Europe\", \"Pais\": \"Czech Republic\", \"t_ataques\": 5, \"t_lesiones\": 4, \"t_muertes\": 0}, {\"Orden\": 43, \"Continente\": \"Europe\", \"Pais\": \"Denmark\", \"t_ataques\": 29, \"t_lesiones\": 60, \"t_muertes\": 1}, {\"Orden\": 44, \"Continente\": \"Africa\", \"Pais\": \"Djibouti\", \"t_ataques\": 4, \"t_lesiones\": 66, \"t_muertes\": 12}, {\"Orden\": 45, \"Continente\": \"North America\", \"Pais\": \"Dominican Republic\", \"t_ataques\": 27, \"t_lesiones\": 3, \"t_muertes\": 2}, {\"Orden\": 46, \"Continente\": \"South America\", \"Pais\": \"Ecuador\", \"t_ataques\": 77, \"t_lesiones\": 50, \"t_muertes\": 27}, {\"Orden\": 47, \"Continente\": \"Africa\", \"Pais\": \"Egypt\", \"t_ataques\": 133, \"t_lesiones\": 856, \"t_muertes\": 331}, {\"Orden\": 48, \"Continente\": \"North America\", \"Pais\": \"El Salvador\", \"t_ataques\": 118, \"t_lesiones\": 68, \"t_muertes\": 65}, {\"Orden\": 49, \"Continente\": \"Africa\", \"Pais\": \"Eritrea\", \"t_ataques\": 5, \"t_lesiones\": 63, \"t_muertes\": 16}, {\"Orden\": 50, \"Continente\": \"Europe\", \"Pais\": \"Estonia\", \"t_ataques\": 7, \"t_lesiones\": 4, \"t_muertes\": 0}, {\"Orden\": 51, \"Continente\": \"Africa\", \"Pais\": \"Ethiopia\", \"t_ataques\": 85, \"t_lesiones\": 371, \"t_muertes\": 215}, {\"Orden\": 52, \"Continente\": \"Oceania\", \"Pais\": \"Fiji\", \"t_ataques\": 2, \"t_lesiones\": 0, \"t_muertes\": 0}, {\"Orden\": 53, \"Continente\": \"Europe\", \"Pais\": \"Finland\", \"t_ataques\": 1, \"t_lesiones\": 0, \"t_muertes\": 0}, {\"Orden\": 54, \"Continente\": \"Europe\", \"Pais\": \"France\", \"t_ataques\": 1223, \"t_lesiones\": 1372, \"t_muertes\": 185}, {\"Orden\": 55, \"Continente\": \"Oceania\", \"Pais\": \"French Polynesia\", \"t_ataques\": 2, \"t_lesiones\": 0, \"t_muertes\": 1}, {\"Orden\": 56, \"Continente\": \"Africa\", \"Pais\": \"Gabon\", \"t_ataques\": 1, \"t_lesiones\": 0, \"t_muertes\": 2}, {\"Orden\": 57, \"Continente\": \"Europe\", \"Pais\": \"Georgia\", \"t_ataques\": 99, \"t_lesiones\": 216, \"t_muertes\": 79}, {\"Orden\": 58, \"Continente\": \"Asia\", \"Pais\": \"Georgia\", \"t_ataques\": 99, \"t_lesiones\": 216, \"t_muertes\": 79}, {\"Orden\": 59, \"Continente\": \"Europe\", \"Pais\": \"Germany\", \"t_ataques\": 27, \"t_lesiones\": 15, \"t_muertes\": 1}, {\"Orden\": 60, \"Continente\": \"Africa\", \"Pais\": \"Ghana\", \"t_ataques\": 1, \"t_lesiones\": 0, \"t_muertes\": 0}, {\"Orden\": 61, \"Continente\": \"Europe\", \"Pais\": \"Gibraltar\", \"t_ataques\": 2, \"t_lesiones\": 0, \"t_muertes\": 3}, {\"Orden\": 62, \"Continente\": \"Europe\", \"Pais\": \"Greece\", \"t_ataques\": 730, \"t_lesiones\": 524, \"t_muertes\": 150}, {\"Orden\": 63, \"Continente\": \"North America\", \"Pais\": \"Grenada\", \"t_ataques\": 1, \"t_lesiones\": 1, \"t_muertes\": 0}, {\"Orden\": 64, \"Continente\": \"North America\", \"Pais\": \"Guadeloupe\", \"t_ataques\": 2, \"t_lesiones\": 2, \"t_muertes\": 0}, {\"Orden\": 65, \"Continente\": \"North America\", \"Pais\": \"Guatemala\", \"t_ataques\": 110, \"t_lesiones\": 37, \"t_muertes\": 94}, {\"Orden\": 66, \"Continente\": \"Africa\", \"Pais\": \"Guinea\", \"t_ataques\": 1, \"t_lesiones\": 0, \"t_muertes\": 0}, {\"Orden\": 67, \"Continente\": \"South America\", \"Pais\": \"Guyana\", \"t_ataques\": 5, \"t_lesiones\": 5, \"t_muertes\": 4}, {\"Orden\": 68, \"Continente\": \"North America\", \"Pais\": \"Haiti\", \"t_ataques\": 23, \"t_lesiones\": 29, \"t_muertes\": 5}, {\"Orden\": 69, \"Continente\": \"North America\", \"Pais\": \"Honduras\", \"t_ataques\": 73, \"t_lesiones\": 69, \"t_muertes\": 37}, {\"Orden\": 70, \"Continente\": \"Asia\", \"Pais\": \"Hong Kong\", \"t_ataques\": 1, \"t_lesiones\": 1, \"t_muertes\": 0}, {\"Orden\": 71, \"Continente\": \"Europe\", \"Pais\": \"Hungary\", \"t_ataques\": 12, \"t_lesiones\": 11, \"t_muertes\": 0}, {\"Orden\": 72, \"Continente\": \"Europe\", \"Pais\": \"Iceland\", \"t_ataques\": 1, \"t_lesiones\": 0, \"t_muertes\": 0}, {\"Orden\": 73, \"Continente\": \"Asia\", \"Pais\": \"India\", \"t_ataques\": 0, \"t_lesiones\": 0, \"t_muertes\": 0}, {\"Orden\": 74, \"Continente\": \"Asia\", \"Pais\": \"Indonesia\", \"t_ataques\": 243, \"t_lesiones\": 1504, \"t_muertes\": 472}, {\"Orden\": 75, \"Continente\": \"Asia\", \"Pais\": \"Iran\", \"t_ataques\": 148, \"t_lesiones\": 415, \"t_muertes\": 103}, {\"Orden\": 76, \"Continente\": \"Asia\", \"Pais\": \"Iraq\", \"t_ataques\": 10763, \"t_lesiones\": 53590, \"t_muertes\": 28971}, {\"Orden\": 77, \"Continente\": \"Europe\", \"Pais\": \"Ireland\", \"t_ataques\": 26, \"t_lesiones\": 10, \"t_muertes\": 8}, {\"Orden\": 78, \"Continente\": \"Asia\", \"Pais\": \"Israel\", \"t_ataques\": 1687, \"t_lesiones\": 7581, \"t_muertes\": 1484}, {\"Orden\": 79, \"Continente\": \"Europe\", \"Pais\": \"Italy\", \"t_ataques\": 434, \"t_lesiones\": 427, \"t_muertes\": 86}, {\"Orden\": 80, \"Continente\": \"North America\", \"Pais\": \"Jamaica\", \"t_ataques\": 8, \"t_lesiones\": 0, \"t_muertes\": 0}, {\"Orden\": 81, \"Continente\": \"Asia\", \"Pais\": \"Japan\", \"t_ataques\": 85, \"t_lesiones\": 5107, \"t_muertes\": 19}, {\"Orden\": 82, \"Continente\": \"Asia\", \"Pais\": \"Jordan\", \"t_ataques\": 87, \"t_lesiones\": 145, \"t_muertes\": 93}, {\"Orden\": 83, \"Continente\": \"Europe\", \"Pais\": \"Kazakhstan\", \"t_ataques\": 7, \"t_lesiones\": 13, \"t_muertes\": 2}, {\"Orden\": 84, \"Continente\": \"Asia\", \"Pais\": \"Kazakhstan\", \"t_ataques\": 7, \"t_lesiones\": 13, \"t_muertes\": 2}, {\"Orden\": 85, \"Continente\": \"Africa\", \"Pais\": \"Kenya\", \"t_ataques\": 12, \"t_lesiones\": 5196, \"t_muertes\": 243}, {\"Orden\": 86, \"Continente\": \"Asia\", \"Pais\": \"Kuwait\", \"t_ataques\": 45, \"t_lesiones\": 190, \"t_muertes\": 34}, {\"Orden\": 87, \"Continente\": \"Europe\", \"Pais\": \"Latvia\", \"t_ataques\": 9, \"t_lesiones\": 35, \"t_muertes\": 1}, {\"Orden\": 88, \"Continente\": \"Asia\", \"Pais\": \"Lebanon\", \"t_ataques\": 676, \"t_lesiones\": 2192, \"t_muertes\": 1302}, {\"Orden\": 89, \"Continente\": \"Africa\", \"Pais\": \"Lesotho\", \"t_ataques\": 2, \"t_lesiones\": 0, \"t_muertes\": 2}, {\"Orden\": 90, \"Continente\": \"Africa\", \"Pais\": \"Liberia\", \"t_ataques\": 8, \"t_lesiones\": 1, \"t_muertes\": 11}, {\"Orden\": 91, \"Continente\": \"Europe\", \"Pais\": \"Lithuania\", \"t_ataques\": 6, \"t_lesiones\": 6, \"t_muertes\": 0}, {\"Orden\": 92, \"Continente\": \"Europe\", \"Pais\": \"Luxembourg\", \"t_ataques\": 5, \"t_lesiones\": 0, \"t_muertes\": 0}, {\"Orden\": 93, \"Continente\": \"Europe\", \"Pais\": \"Macedonia\", \"t_ataques\": 67, \"t_lesiones\": 40, \"t_muertes\": 10}, {\"Orden\": 94, \"Continente\": \"Africa\", \"Pais\": \"Madagascar\", \"t_ataques\": 7, \"t_lesiones\": 37, \"t_muertes\": 0}, {\"Orden\": 95, \"Continente\": \"Asia\", \"Pais\": \"Malaysia\", \"t_ataques\": 14, \"t_lesiones\": 11, \"t_muertes\": 110}, {\"Orden\": 96, \"Continente\": \"Asia\", \"Pais\": \"Maldives\", \"t_ataques\": 1, \"t_lesiones\": 3, \"t_muertes\": 0}, {\"Orden\": 97, \"Continente\": \"Africa\", \"Pais\": \"Mali\", \"t_ataques\": 2, \"t_lesiones\": 0, \"t_muertes\": 0}, {\"Orden\": 98, \"Continente\": \"Europe\", \"Pais\": \"Malta\", \"t_ataques\": 12, \"t_lesiones\": 9, \"t_muertes\": 2}, {\"Orden\": 99, \"Continente\": \"North America\", \"Pais\": \"Martinique\", \"t_ataques\": 1, \"t_lesiones\": 0, \"t_muertes\": 0}, {\"Orden\": 100, \"Continente\": \"Africa\", \"Pais\": \"Mauritania\", \"t_ataques\": 9, \"t_lesiones\": 0, \"t_muertes\": 40}, {\"Orden\": 101, \"Continente\": \"North America\", \"Pais\": \"Mexico\", \"t_ataques\": 81, \"t_lesiones\": 27, \"t_muertes\": 20}, {\"Orden\": 102, \"Continente\": \"Europe\", \"Pais\": \"Moldova\", \"t_ataques\": 6, \"t_lesiones\": 25, \"t_muertes\": 10}, {\"Orden\": 103, \"Continente\": \"Asia\", \"Pais\": \"Mongolia\", \"t_ataques\": 1, \"t_lesiones\": 0, \"t_muertes\": 1}, {\"Orden\": 104, \"Continente\": \"Europe\", \"Pais\": \"Montenegro\", \"t_ataques\": 13, \"t_lesiones\": 0, \"t_muertes\": 1}, {\"Orden\": 105, \"Continente\": \"Africa\", \"Pais\": \"Morocco\", \"t_ataques\": 28, \"t_lesiones\": 11, \"t_muertes\": 48}, {\"Orden\": 106, \"Continente\": \"Africa\", \"Pais\": \"Mozambique\", \"t_ataques\": 36, \"t_lesiones\": 15, \"t_muertes\": 37}, {\"Orden\": 107, \"Continente\": \"Asia\", \"Pais\": \"Myanmar\", \"t_ataques\": 50, \"t_lesiones\": 309, \"t_muertes\": 81}, {\"Orden\": 108, \"Continente\": \"Africa\", \"Pais\": \"Namibia\", \"t_ataques\": 3, \"t_lesiones\": 35, \"t_muertes\": 18}, {\"Orden\": 109, \"Continente\": \"Asia\", \"Pais\": \"Nepal\", \"t_ataques\": 493, \"t_lesiones\": 625, \"t_muertes\": 212}, {\"Orden\": 110, \"Continente\": \"Europe\", \"Pais\": \"Netherlands\", \"t_ataques\": 76, \"t_lesiones\": 46, \"t_muertes\": 27}, {\"Orden\": 111, \"Continente\": \"Oceania\", \"Pais\": \"New Zealand\", \"t_ataques\": 5, \"t_lesiones\": 0, \"t_muertes\": 1}, {\"Orden\": 112, \"Continente\": \"North America\", \"Pais\": \"Nicaragua\", \"t_ataques\": 46, \"t_lesiones\": 83, \"t_muertes\": 26}, {\"Orden\": 113, \"Continente\": \"Africa\", \"Pais\": \"Niger\", \"t_ataques\": 1, \"t_lesiones\": 0, \"t_muertes\": 0}, {\"Orden\": 114, \"Continente\": \"Africa\", \"Pais\": \"Nigeria\", \"t_ataques\": 74, \"t_lesiones\": 43, \"t_muertes\": 40}, {\"Orden\": 115, \"Continente\": \"Europe\", \"Pais\": \"Norway\", \"t_ataques\": 11, \"t_lesiones\": 5, \"t_muertes\": 1}, {\"Orden\": 116, \"Continente\": \"Asia\", \"Pais\": \"Pakistan\", \"t_ataques\": 0, \"t_lesiones\": 0, \"t_muertes\": 0}, {\"Orden\": 117, \"Continente\": \"North America\", \"Pais\": \"Panama\", \"t_ataques\": 23, \"t_lesiones\": 30, \"t_muertes\": 25}, {\"Orden\": 118, \"Continente\": \"Oceania\", \"Pais\": \"Papua New Guinea\", \"t_ataques\": 5, \"t_lesiones\": 3, \"t_muertes\": 1}, {\"Orden\": 119, \"Continente\": \"South America\", \"Pais\": \"Paraguay\", \"t_ataques\": 11, \"t_lesiones\": 1, \"t_muertes\": 5}, {\"Orden\": 120, \"Continente\": \"South America\", \"Pais\": \"Peru\", \"t_ataques\": 371, \"t_lesiones\": 390, \"t_muertes\": 210}, {\"Orden\": 121, \"Continente\": \"Asia\", \"Pais\": \"Philippines\", \"t_ataques\": 593, \"t_lesiones\": 2560, \"t_muertes\": 765}, {\"Orden\": 122, \"Continente\": \"Europe\", \"Pais\": \"Poland\", \"t_ataques\": 14, \"t_lesiones\": 8, \"t_muertes\": 3}, {\"Orden\": 123, \"Continente\": \"Europe\", \"Pais\": \"Portugal\", \"t_ataques\": 0, \"t_lesiones\": 0, \"t_muertes\": 0}, {\"Orden\": 124, \"Continente\": \"North America\", \"Pais\": \"Puerto Rico\", \"t_ataques\": 21, \"t_lesiones\": 4, \"t_muertes\": 2}, {\"Orden\": 125, \"Continente\": \"Asia\", \"Pais\": \"Qatar\", \"t_ataques\": 2, \"t_lesiones\": 17, \"t_muertes\": 2}, {\"Orden\": 126, \"Continente\": \"Europe\", \"Pais\": \"Romania\", \"t_ataques\": 5, \"t_lesiones\": 2, \"t_muertes\": 5}, {\"Orden\": 127, \"Continente\": \"Africa\", \"Pais\": \"Rwanda\", \"t_ataques\": 5, \"t_lesiones\": 7, \"t_muertes\": 12}, {\"Orden\": 128, \"Continente\": \"Asia\", \"Pais\": \"Saudi Arabia\", \"t_ataques\": 0, \"t_lesiones\": 0, \"t_muertes\": 0}, {\"Orden\": 129, \"Continente\": \"Africa\", \"Pais\": \"Senegal\", \"t_ataques\": 2, \"t_lesiones\": 0, \"t_muertes\": 0}, {\"Orden\": 130, \"Continente\": \"Europe\", \"Pais\": \"Serbia\", \"t_ataques\": 73, \"t_lesiones\": 29, \"t_muertes\": 10}, {\"Orden\": 131, \"Continente\": \"Africa\", \"Pais\": \"Sierra Leone\", \"t_ataques\": 20, \"t_lesiones\": 1, \"t_muertes\": 20}, {\"Orden\": 132, \"Continente\": \"Asia\", \"Pais\": \"Singapore\", \"t_ataques\": 5, \"t_lesiones\": 0, \"t_muertes\": 0}, {\"Orden\": 133, \"Continente\": \"Europe\", \"Pais\": \"Slovenia\", \"t_ataques\": 1, \"t_lesiones\": 0, \"t_muertes\": 0}, {\"Orden\": 134, \"Continente\": \"Africa\", \"Pais\": \"Somalia\", \"t_ataques\": 371, \"t_lesiones\": 826, \"t_muertes\": 602}, {\"Orden\": 135, \"Continente\": \"Africa\", \"Pais\": \"South Africa\", \"t_ataques\": 58, \"t_lesiones\": 194, \"t_muertes\": 12}, {\"Orden\": 136, \"Continente\": \"Europe\", \"Pais\": \"Spain\", \"t_ataques\": 1428, \"t_lesiones\": 1567, \"t_muertes\": 297}, {\"Orden\": 137, \"Continente\": \"Asia\", \"Pais\": \"Sri Lanka\", \"t_ataques\": 350, \"t_lesiones\": 4212, \"t_muertes\": 1096}, {\"Orden\": 138, \"Continente\": \"Africa\", \"Pais\": \"Sudan\", \"t_ataques\": 0, \"t_lesiones\": 0, \"t_muertes\": 0}, {\"Orden\": 139, \"Continente\": \"South America\", \"Pais\": \"Suriname\", \"t_ataques\": 6, \"t_lesiones\": 0, \"t_muertes\": 1}, {\"Orden\": 140, \"Continente\": \"Africa\", \"Pais\": \"Swaziland\", \"t_ataques\": 4, \"t_lesiones\": 10, \"t_muertes\": 6}, {\"Orden\": 141, \"Continente\": \"Europe\", \"Pais\": \"Sweden\", \"t_ataques\": 45, \"t_lesiones\": 11, \"t_muertes\": 34}, {\"Orden\": 142, \"Continente\": \"Europe\", \"Pais\": \"Switzerland\", \"t_ataques\": 84, \"t_lesiones\": 66, \"t_muertes\": 53}, {\"Orden\": 143, \"Continente\": \"Asia\", \"Pais\": \"Taiwan\", \"t_ataques\": 4, \"t_lesiones\": 5, \"t_muertes\": 25}, {\"Orden\": 144, \"Continente\": \"Asia\", \"Pais\": \"Tajikistan\", \"t_ataques\": 59, \"t_lesiones\": 82, \"t_muertes\": 58}, {\"Orden\": 145, \"Continente\": \"Africa\", \"Pais\": \"Tanzania\", \"t_ataques\": 9, \"t_lesiones\": 78, \"t_muertes\": 11}, {\"Orden\": 146, \"Continente\": \"Asia\", \"Pais\": \"Thailand\", \"t_ataques\": 2009, \"t_lesiones\": 3371, \"t_muertes\": 1442}, {\"Orden\": 147, \"Continente\": \"Africa\", \"Pais\": \"Togo\", \"t_ataques\": 3, \"t_lesiones\": 6, \"t_muertes\": 0}, {\"Orden\": 148, \"Continente\": \"North America\", \"Pais\": \"Trinidad and Tobago\", \"t_ataques\": 2, \"t_lesiones\": 12, \"t_muertes\": 0}, {\"Orden\": 149, \"Continente\": \"Africa\", \"Pais\": \"Tunisia\", \"t_ataques\": 0, \"t_lesiones\": 0, \"t_muertes\": 0}, {\"Orden\": 150, \"Continente\": \"Asia\", \"Pais\": \"Turkey\", \"t_ataques\": 1279, \"t_lesiones\": 2541, \"t_muertes\": 605}, {\"Orden\": 151, \"Continente\": \"Europe\", \"Pais\": \"Turkey\", \"t_ataques\": 1279, \"t_lesiones\": 2541, \"t_muertes\": 605}, {\"Orden\": 152, \"Continente\": \"Asia\", \"Pais\": \"Turkmenistan\", \"t_ataques\": 1, \"t_lesiones\": 1, \"t_muertes\": 1}, {\"Orden\": 153, \"Continente\": \"Africa\", \"Pais\": \"Uganda\", \"t_ataques\": 63, \"t_lesiones\": 467, \"t_muertes\": 549}, {\"Orden\": 154, \"Continente\": \"Europe\", \"Pais\": \"Ukraine\", \"t_ataques\": 26, \"t_lesiones\": 28, \"t_muertes\": 4}, {\"Orden\": 155, \"Continente\": \"Asia\", \"Pais\": \"United Arab Emirates\", \"t_ataques\": 10, \"t_lesiones\": 4, \"t_muertes\": 8}, {\"Orden\": 156, \"Continente\": \"South America\", \"Pais\": \"Uruguay\", \"t_ataques\": 26, \"t_lesiones\": 3, \"t_muertes\": 1}, {\"Orden\": 157, \"Continente\": \"Asia\", \"Pais\": \"Uzbekistan\", \"t_ataques\": 16, \"t_lesiones\": 168, \"t_muertes\": 40}, {\"Orden\": 158, \"Continente\": \"South America\", \"Pais\": \"Venezuela\", \"t_ataques\": 162, \"t_lesiones\": 72, \"t_muertes\": 48}, {\"Orden\": 159, \"Continente\": \"Asia\", \"Pais\": \"Vietnam\", \"t_ataques\": 3, \"t_lesiones\": 132, \"t_muertes\": 1}, {\"Orden\": 160, \"Continente\": \"Africa\", \"Pais\": \"Western Sahara\", \"t_ataques\": 3, \"t_lesiones\": 3, \"t_muertes\": 9}, {\"Orden\": 161, \"Continente\": \"Asia\", \"Pais\": \"Yemen\", \"t_ataques\": 136, \"t_lesiones\": 328, \"t_muertes\": 138}, {\"Orden\": 162, \"Continente\": \"Africa\", \"Pais\": \"Zambia\", \"t_ataques\": 9, \"t_lesiones\": 34, \"t_muertes\": 10}, {\"Orden\": 163, \"Continente\": \"Africa\", \"Pais\": \"Zimbabwe\", \"t_ataques\": 28, \"t_lesiones\": 108, \"t_muertes\": 78}]}}, {\"mode\": \"vega-lite\"});\n",
       "</script>"
      ],
      "text/plain": [
       "alt.Chart(...)"
      ]
     },
     "execution_count": 46,
     "metadata": {},
     "output_type": "execute_result"
    }
   ],
   "source": [
    "alt.Chart(terrorismo). mark_rect()"
   ]
  },
  {
   "cell_type": "code",
   "execution_count": 61,
   "id": "1e28fbc1",
   "metadata": {},
   "outputs": [
    {
     "data": {
      "text/html": [
       "\n",
       "<div id=\"altair-viz-fdd3a47b6b9c488280f17d257012c08b\"></div>\n",
       "<script type=\"text/javascript\">\n",
       "  (function(spec, embedOpt){\n",
       "    let outputDiv = document.currentScript.previousElementSibling;\n",
       "    if (outputDiv.id !== \"altair-viz-fdd3a47b6b9c488280f17d257012c08b\") {\n",
       "      outputDiv = document.getElementById(\"altair-viz-fdd3a47b6b9c488280f17d257012c08b\");\n",
       "    }\n",
       "    const paths = {\n",
       "      \"vega\": \"https://cdn.jsdelivr.net/npm//vega@5?noext\",\n",
       "      \"vega-lib\": \"https://cdn.jsdelivr.net/npm//vega-lib?noext\",\n",
       "      \"vega-lite\": \"https://cdn.jsdelivr.net/npm//vega-lite@4.8.1?noext\",\n",
       "      \"vega-embed\": \"https://cdn.jsdelivr.net/npm//vega-embed@6?noext\",\n",
       "    };\n",
       "\n",
       "    function loadScript(lib) {\n",
       "      return new Promise(function(resolve, reject) {\n",
       "        var s = document.createElement('script');\n",
       "        s.src = paths[lib];\n",
       "        s.async = true;\n",
       "        s.onload = () => resolve(paths[lib]);\n",
       "        s.onerror = () => reject(`Error loading script: ${paths[lib]}`);\n",
       "        document.getElementsByTagName(\"head\")[0].appendChild(s);\n",
       "      });\n",
       "    }\n",
       "\n",
       "    function showError(err) {\n",
       "      outputDiv.innerHTML = `<div class=\"error\" style=\"color:red;\">${err}</div>`;\n",
       "      throw err;\n",
       "    }\n",
       "\n",
       "    function displayChart(vegaEmbed) {\n",
       "      vegaEmbed(outputDiv, spec, embedOpt)\n",
       "        .catch(err => showError(`Javascript Error: ${err.message}<br>This usually means there's a typo in your chart specification. See the javascript console for the full traceback.`));\n",
       "    }\n",
       "\n",
       "    if(typeof define === \"function\" && define.amd) {\n",
       "      requirejs.config({paths});\n",
       "      require([\"vega-embed\"], displayChart, err => showError(`Error loading script: ${err.message}`));\n",
       "    } else if (typeof vegaEmbed === \"function\") {\n",
       "      displayChart(vegaEmbed);\n",
       "    } else {\n",
       "      loadScript(\"vega\")\n",
       "        .then(() => loadScript(\"vega-lite\"))\n",
       "        .then(() => loadScript(\"vega-embed\"))\n",
       "        .catch(showError)\n",
       "        .then(() => displayChart(vegaEmbed));\n",
       "    }\n",
       "  })({\"config\": {\"view\": {\"continuousWidth\": 400, \"continuousHeight\": 300}}, \"data\": {\"name\": \"data-605c99f9e89fd66a13f5d1ca435603b1\"}, \"mark\": \"point\", \"encoding\": {\"color\": {\"type\": \"nominal\", \"field\": \"Continente\"}, \"tooltip\": [{\"type\": \"quantitative\", \"field\": \"t_ataques\"}], \"x\": {\"type\": \"quantitative\", \"field\": \"t_ataques\"}, \"y\": {\"type\": \"nominal\", \"field\": \"Pais\"}}, \"selection\": {\"selector003\": {\"type\": \"interval\", \"bind\": \"scales\", \"encodings\": [\"x\", \"y\"]}}, \"title\": {\"text\": [\"cantidad de ataques a los paises\"], \"subtitle\": [\"fuente:Estudios sobre terrorismo\"], \"color\": \"black\", \"subtitleColor\": \"red\"}, \"$schema\": \"https://vega.github.io/schema/vega-lite/v4.8.1.json\", \"datasets\": {\"data-605c99f9e89fd66a13f5d1ca435603b1\": [{\"Orden\": 1, \"Continente\": \"Asia\", \"Pais\": \"Afghanistan\", \"t_ataques\": 2024, \"t_lesiones\": 4789, \"t_muertes\": 4200}, {\"Orden\": 2, \"Continente\": \"Europe\", \"Pais\": \"Albania\", \"t_ataques\": 54, \"t_lesiones\": 20, \"t_muertes\": 6}, {\"Orden\": 3, \"Continente\": \"Africa\", \"Pais\": \"Algeria\", \"t_ataques\": 319, \"t_lesiones\": 1890, \"t_muertes\": 1302}, {\"Orden\": 4, \"Continente\": \"Africa\", \"Pais\": \"Angola\", \"t_ataques\": 73, \"t_lesiones\": 216, \"t_muertes\": 358}, {\"Orden\": 5, \"Continente\": \"South America\", \"Pais\": \"Argentina\", \"t_ataques\": 267, \"t_lesiones\": 516, \"t_muertes\": 175}, {\"Orden\": 6, \"Continente\": \"Europe\", \"Pais\": \"Armenia\", \"t_ataques\": 8, \"t_lesiones\": 1, \"t_muertes\": 2}, {\"Orden\": 7, \"Continente\": \"Asia\", \"Pais\": \"Armenia\", \"t_ataques\": 8, \"t_lesiones\": 1, \"t_muertes\": 2}, {\"Orden\": 8, \"Continente\": \"Oceania\", \"Pais\": \"Australia\", \"t_ataques\": 33, \"t_lesiones\": 11, \"t_muertes\": 9}, {\"Orden\": 9, \"Continente\": \"Europe\", \"Pais\": \"Austria\", \"t_ataques\": 62, \"t_lesiones\": 117, \"t_muertes\": 17}, {\"Orden\": 10, \"Continente\": \"Asia\", \"Pais\": \"Azerbaijan\", \"t_ataques\": 9, \"t_lesiones\": 68, \"t_muertes\": 26}, {\"Orden\": 11, \"Continente\": \"Europe\", \"Pais\": \"Azerbaijan\", \"t_ataques\": 9, \"t_lesiones\": 68, \"t_muertes\": 26}, {\"Orden\": 12, \"Continente\": \"North America\", \"Pais\": \"Bahamas\", \"t_ataques\": 2, \"t_lesiones\": 0, \"t_muertes\": 1}, {\"Orden\": 13, \"Continente\": \"Asia\", \"Pais\": \"Bahrain\", \"t_ataques\": 18, \"t_lesiones\": 11, \"t_muertes\": 13}, {\"Orden\": 14, \"Continente\": \"Asia\", \"Pais\": \"Bangladesh\", \"t_ataques\": 155, \"t_lesiones\": 2208, \"t_muertes\": 231}, {\"Orden\": 15, \"Continente\": \"North America\", \"Pais\": \"Barbados\", \"t_ataques\": 2, \"t_lesiones\": 0, \"t_muertes\": 73}, {\"Orden\": 16, \"Continente\": \"Europe\", \"Pais\": \"Belarus\", \"t_ataques\": 2, \"t_lesiones\": 0, \"t_muertes\": 0}, {\"Orden\": 17, \"Continente\": \"Europe\", \"Pais\": \"Belgium\", \"t_ataques\": 0, \"t_lesiones\": 0, \"t_muertes\": 0}, {\"Orden\": 18, \"Continente\": \"North America\", \"Pais\": \"Belize\", \"t_ataques\": 1, \"t_lesiones\": 0, \"t_muertes\": 0}, {\"Orden\": 19, \"Continente\": \"Africa\", \"Pais\": \"Benin\", \"t_ataques\": 1, \"t_lesiones\": 3, \"t_muertes\": 0}, {\"Orden\": 20, \"Continente\": \"Asia\", \"Pais\": \"Bhutan\", \"t_ataques\": 12, \"t_lesiones\": 3, \"t_muertes\": 0}, {\"Orden\": 21, \"Continente\": \"South America\", \"Pais\": \"Bolivia\", \"t_ataques\": 79, \"t_lesiones\": 41, \"t_muertes\": 10}, {\"Orden\": 22, \"Continente\": \"Europe\", \"Pais\": \"Bosnia and Herzegovina\", \"t_ataques\": 114, \"t_lesiones\": 39, \"t_muertes\": 18}, {\"Orden\": 23, \"Continente\": \"Africa\", \"Pais\": \"Botswana\", \"t_ataques\": 3, \"t_lesiones\": 0, \"t_muertes\": 2}, {\"Orden\": 24, \"Continente\": \"South America\", \"Pais\": \"Brazil\", \"t_ataques\": 53, \"t_lesiones\": 50, \"t_muertes\": 10}, {\"Orden\": 25, \"Continente\": \"Europe\", \"Pais\": \"Bulgaria\", \"t_ataques\": 12, \"t_lesiones\": 0, \"t_muertes\": 2}, {\"Orden\": 26, \"Continente\": \"Africa\", \"Pais\": \"Burundi\", \"t_ataques\": 14, \"t_lesiones\": 29, \"t_muertes\": 27}, {\"Orden\": 27, \"Continente\": \"Asia\", \"Pais\": \"Cambodia\", \"t_ataques\": 60, \"t_lesiones\": 188, \"t_muertes\": 77}, {\"Orden\": 28, \"Continente\": \"North America\", \"Pais\": \"Canada\", \"t_ataques\": 34, \"t_lesiones\": 51, \"t_muertes\": 338}, {\"Orden\": 29, \"Continente\": \"Africa\", \"Pais\": \"Central African Republic\", \"t_ataques\": 1, \"t_lesiones\": 7, \"t_muertes\": 0}, {\"Orden\": 30, \"Continente\": \"Africa\", \"Pais\": \"Chad\", \"t_ataques\": 12, \"t_lesiones\": 25, \"t_muertes\": 180}, {\"Orden\": 31, \"Continente\": \"South America\", \"Pais\": \"Chile\", \"t_ataques\": 0, \"t_lesiones\": 0, \"t_muertes\": 0}, {\"Orden\": 32, \"Continente\": \"Asia\", \"Pais\": \"China\", \"t_ataques\": 28, \"t_lesiones\": 172, \"t_muertes\": 100}, {\"Orden\": 33, \"Continente\": \"South America\", \"Pais\": \"Colombia\", \"t_ataques\": 1913, \"t_lesiones\": 2748, \"t_muertes\": 1615}, {\"Orden\": 34, \"Continente\": \"Africa\", \"Pais\": \"Congo\", \"t_ataques\": 2, \"t_lesiones\": 1, \"t_muertes\": 1}, {\"Orden\": 35, \"Continente\": \"Africa\", \"Pais\": \"Congo\", \"t_ataques\": 2, \"t_lesiones\": 1, \"t_muertes\": 1}, {\"Orden\": 36, \"Continente\": \"North America\", \"Pais\": \"Costa Rica\", \"t_ataques\": 0, \"t_lesiones\": 0, \"t_muertes\": 0}, {\"Orden\": 37, \"Continente\": \"Africa\", \"Pais\": \"Cote d'Ivoire\", \"t_ataques\": 3, \"t_lesiones\": 0, \"t_muertes\": 3}, {\"Orden\": 38, \"Continente\": \"Europe\", \"Pais\": \"Croatia\", \"t_ataques\": 23, \"t_lesiones\": 41, \"t_muertes\": 2}, {\"Orden\": 39, \"Continente\": \"North America\", \"Pais\": \"Cuba\", \"t_ataques\": 19, \"t_lesiones\": 4, \"t_muertes\": 2}, {\"Orden\": 40, \"Continente\": \"Asia\", \"Pais\": \"Cyprus\", \"t_ataques\": 72, \"t_lesiones\": 67, \"t_muertes\": 25}, {\"Orden\": 41, \"Continente\": \"Europe\", \"Pais\": \"Cyprus\", \"t_ataques\": 72, \"t_lesiones\": 67, \"t_muertes\": 25}, {\"Orden\": 42, \"Continente\": \"Europe\", \"Pais\": \"Czech Republic\", \"t_ataques\": 5, \"t_lesiones\": 4, \"t_muertes\": 0}, {\"Orden\": 43, \"Continente\": \"Europe\", \"Pais\": \"Denmark\", \"t_ataques\": 29, \"t_lesiones\": 60, \"t_muertes\": 1}, {\"Orden\": 44, \"Continente\": \"Africa\", \"Pais\": \"Djibouti\", \"t_ataques\": 4, \"t_lesiones\": 66, \"t_muertes\": 12}, {\"Orden\": 45, \"Continente\": \"North America\", \"Pais\": \"Dominican Republic\", \"t_ataques\": 27, \"t_lesiones\": 3, \"t_muertes\": 2}, {\"Orden\": 46, \"Continente\": \"South America\", \"Pais\": \"Ecuador\", \"t_ataques\": 77, \"t_lesiones\": 50, \"t_muertes\": 27}, {\"Orden\": 47, \"Continente\": \"Africa\", \"Pais\": \"Egypt\", \"t_ataques\": 133, \"t_lesiones\": 856, \"t_muertes\": 331}, {\"Orden\": 48, \"Continente\": \"North America\", \"Pais\": \"El Salvador\", \"t_ataques\": 118, \"t_lesiones\": 68, \"t_muertes\": 65}, {\"Orden\": 49, \"Continente\": \"Africa\", \"Pais\": \"Eritrea\", \"t_ataques\": 5, \"t_lesiones\": 63, \"t_muertes\": 16}, {\"Orden\": 50, \"Continente\": \"Europe\", \"Pais\": \"Estonia\", \"t_ataques\": 7, \"t_lesiones\": 4, \"t_muertes\": 0}, {\"Orden\": 51, \"Continente\": \"Africa\", \"Pais\": \"Ethiopia\", \"t_ataques\": 85, \"t_lesiones\": 371, \"t_muertes\": 215}, {\"Orden\": 52, \"Continente\": \"Oceania\", \"Pais\": \"Fiji\", \"t_ataques\": 2, \"t_lesiones\": 0, \"t_muertes\": 0}, {\"Orden\": 53, \"Continente\": \"Europe\", \"Pais\": \"Finland\", \"t_ataques\": 1, \"t_lesiones\": 0, \"t_muertes\": 0}, {\"Orden\": 54, \"Continente\": \"Europe\", \"Pais\": \"France\", \"t_ataques\": 1223, \"t_lesiones\": 1372, \"t_muertes\": 185}, {\"Orden\": 55, \"Continente\": \"Oceania\", \"Pais\": \"French Polynesia\", \"t_ataques\": 2, \"t_lesiones\": 0, \"t_muertes\": 1}, {\"Orden\": 56, \"Continente\": \"Africa\", \"Pais\": \"Gabon\", \"t_ataques\": 1, \"t_lesiones\": 0, \"t_muertes\": 2}, {\"Orden\": 57, \"Continente\": \"Europe\", \"Pais\": \"Georgia\", \"t_ataques\": 99, \"t_lesiones\": 216, \"t_muertes\": 79}, {\"Orden\": 58, \"Continente\": \"Asia\", \"Pais\": \"Georgia\", \"t_ataques\": 99, \"t_lesiones\": 216, \"t_muertes\": 79}, {\"Orden\": 59, \"Continente\": \"Europe\", \"Pais\": \"Germany\", \"t_ataques\": 27, \"t_lesiones\": 15, \"t_muertes\": 1}, {\"Orden\": 60, \"Continente\": \"Africa\", \"Pais\": \"Ghana\", \"t_ataques\": 1, \"t_lesiones\": 0, \"t_muertes\": 0}, {\"Orden\": 61, \"Continente\": \"Europe\", \"Pais\": \"Gibraltar\", \"t_ataques\": 2, \"t_lesiones\": 0, \"t_muertes\": 3}, {\"Orden\": 62, \"Continente\": \"Europe\", \"Pais\": \"Greece\", \"t_ataques\": 730, \"t_lesiones\": 524, \"t_muertes\": 150}, {\"Orden\": 63, \"Continente\": \"North America\", \"Pais\": \"Grenada\", \"t_ataques\": 1, \"t_lesiones\": 1, \"t_muertes\": 0}, {\"Orden\": 64, \"Continente\": \"North America\", \"Pais\": \"Guadeloupe\", \"t_ataques\": 2, \"t_lesiones\": 2, \"t_muertes\": 0}, {\"Orden\": 65, \"Continente\": \"North America\", \"Pais\": \"Guatemala\", \"t_ataques\": 110, \"t_lesiones\": 37, \"t_muertes\": 94}, {\"Orden\": 66, \"Continente\": \"Africa\", \"Pais\": \"Guinea\", \"t_ataques\": 1, \"t_lesiones\": 0, \"t_muertes\": 0}, {\"Orden\": 67, \"Continente\": \"South America\", \"Pais\": \"Guyana\", \"t_ataques\": 5, \"t_lesiones\": 5, \"t_muertes\": 4}, {\"Orden\": 68, \"Continente\": \"North America\", \"Pais\": \"Haiti\", \"t_ataques\": 23, \"t_lesiones\": 29, \"t_muertes\": 5}, {\"Orden\": 69, \"Continente\": \"North America\", \"Pais\": \"Honduras\", \"t_ataques\": 73, \"t_lesiones\": 69, \"t_muertes\": 37}, {\"Orden\": 70, \"Continente\": \"Asia\", \"Pais\": \"Hong Kong\", \"t_ataques\": 1, \"t_lesiones\": 1, \"t_muertes\": 0}, {\"Orden\": 71, \"Continente\": \"Europe\", \"Pais\": \"Hungary\", \"t_ataques\": 12, \"t_lesiones\": 11, \"t_muertes\": 0}, {\"Orden\": 72, \"Continente\": \"Europe\", \"Pais\": \"Iceland\", \"t_ataques\": 1, \"t_lesiones\": 0, \"t_muertes\": 0}, {\"Orden\": 73, \"Continente\": \"Asia\", \"Pais\": \"India\", \"t_ataques\": 0, \"t_lesiones\": 0, \"t_muertes\": 0}, {\"Orden\": 74, \"Continente\": \"Asia\", \"Pais\": \"Indonesia\", \"t_ataques\": 243, \"t_lesiones\": 1504, \"t_muertes\": 472}, {\"Orden\": 75, \"Continente\": \"Asia\", \"Pais\": \"Iran\", \"t_ataques\": 148, \"t_lesiones\": 415, \"t_muertes\": 103}, {\"Orden\": 76, \"Continente\": \"Asia\", \"Pais\": \"Iraq\", \"t_ataques\": 10763, \"t_lesiones\": 53590, \"t_muertes\": 28971}, {\"Orden\": 77, \"Continente\": \"Europe\", \"Pais\": \"Ireland\", \"t_ataques\": 26, \"t_lesiones\": 10, \"t_muertes\": 8}, {\"Orden\": 78, \"Continente\": \"Asia\", \"Pais\": \"Israel\", \"t_ataques\": 1687, \"t_lesiones\": 7581, \"t_muertes\": 1484}, {\"Orden\": 79, \"Continente\": \"Europe\", \"Pais\": \"Italy\", \"t_ataques\": 434, \"t_lesiones\": 427, \"t_muertes\": 86}, {\"Orden\": 80, \"Continente\": \"North America\", \"Pais\": \"Jamaica\", \"t_ataques\": 8, \"t_lesiones\": 0, \"t_muertes\": 0}, {\"Orden\": 81, \"Continente\": \"Asia\", \"Pais\": \"Japan\", \"t_ataques\": 85, \"t_lesiones\": 5107, \"t_muertes\": 19}, {\"Orden\": 82, \"Continente\": \"Asia\", \"Pais\": \"Jordan\", \"t_ataques\": 87, \"t_lesiones\": 145, \"t_muertes\": 93}, {\"Orden\": 83, \"Continente\": \"Europe\", \"Pais\": \"Kazakhstan\", \"t_ataques\": 7, \"t_lesiones\": 13, \"t_muertes\": 2}, {\"Orden\": 84, \"Continente\": \"Asia\", \"Pais\": \"Kazakhstan\", \"t_ataques\": 7, \"t_lesiones\": 13, \"t_muertes\": 2}, {\"Orden\": 85, \"Continente\": \"Africa\", \"Pais\": \"Kenya\", \"t_ataques\": 12, \"t_lesiones\": 5196, \"t_muertes\": 243}, {\"Orden\": 86, \"Continente\": \"Asia\", \"Pais\": \"Kuwait\", \"t_ataques\": 45, \"t_lesiones\": 190, \"t_muertes\": 34}, {\"Orden\": 87, \"Continente\": \"Europe\", \"Pais\": \"Latvia\", \"t_ataques\": 9, \"t_lesiones\": 35, \"t_muertes\": 1}, {\"Orden\": 88, \"Continente\": \"Asia\", \"Pais\": \"Lebanon\", \"t_ataques\": 676, \"t_lesiones\": 2192, \"t_muertes\": 1302}, {\"Orden\": 89, \"Continente\": \"Africa\", \"Pais\": \"Lesotho\", \"t_ataques\": 2, \"t_lesiones\": 0, \"t_muertes\": 2}, {\"Orden\": 90, \"Continente\": \"Africa\", \"Pais\": \"Liberia\", \"t_ataques\": 8, \"t_lesiones\": 1, \"t_muertes\": 11}, {\"Orden\": 91, \"Continente\": \"Europe\", \"Pais\": \"Lithuania\", \"t_ataques\": 6, \"t_lesiones\": 6, \"t_muertes\": 0}, {\"Orden\": 92, \"Continente\": \"Europe\", \"Pais\": \"Luxembourg\", \"t_ataques\": 5, \"t_lesiones\": 0, \"t_muertes\": 0}, {\"Orden\": 93, \"Continente\": \"Europe\", \"Pais\": \"Macedonia\", \"t_ataques\": 67, \"t_lesiones\": 40, \"t_muertes\": 10}, {\"Orden\": 94, \"Continente\": \"Africa\", \"Pais\": \"Madagascar\", \"t_ataques\": 7, \"t_lesiones\": 37, \"t_muertes\": 0}, {\"Orden\": 95, \"Continente\": \"Asia\", \"Pais\": \"Malaysia\", \"t_ataques\": 14, \"t_lesiones\": 11, \"t_muertes\": 110}, {\"Orden\": 96, \"Continente\": \"Asia\", \"Pais\": \"Maldives\", \"t_ataques\": 1, \"t_lesiones\": 3, \"t_muertes\": 0}, {\"Orden\": 97, \"Continente\": \"Africa\", \"Pais\": \"Mali\", \"t_ataques\": 2, \"t_lesiones\": 0, \"t_muertes\": 0}, {\"Orden\": 98, \"Continente\": \"Europe\", \"Pais\": \"Malta\", \"t_ataques\": 12, \"t_lesiones\": 9, \"t_muertes\": 2}, {\"Orden\": 99, \"Continente\": \"North America\", \"Pais\": \"Martinique\", \"t_ataques\": 1, \"t_lesiones\": 0, \"t_muertes\": 0}, {\"Orden\": 100, \"Continente\": \"Africa\", \"Pais\": \"Mauritania\", \"t_ataques\": 9, \"t_lesiones\": 0, \"t_muertes\": 40}, {\"Orden\": 101, \"Continente\": \"North America\", \"Pais\": \"Mexico\", \"t_ataques\": 81, \"t_lesiones\": 27, \"t_muertes\": 20}, {\"Orden\": 102, \"Continente\": \"Europe\", \"Pais\": \"Moldova\", \"t_ataques\": 6, \"t_lesiones\": 25, \"t_muertes\": 10}, {\"Orden\": 103, \"Continente\": \"Asia\", \"Pais\": \"Mongolia\", \"t_ataques\": 1, \"t_lesiones\": 0, \"t_muertes\": 1}, {\"Orden\": 104, \"Continente\": \"Europe\", \"Pais\": \"Montenegro\", \"t_ataques\": 13, \"t_lesiones\": 0, \"t_muertes\": 1}, {\"Orden\": 105, \"Continente\": \"Africa\", \"Pais\": \"Morocco\", \"t_ataques\": 28, \"t_lesiones\": 11, \"t_muertes\": 48}, {\"Orden\": 106, \"Continente\": \"Africa\", \"Pais\": \"Mozambique\", \"t_ataques\": 36, \"t_lesiones\": 15, \"t_muertes\": 37}, {\"Orden\": 107, \"Continente\": \"Asia\", \"Pais\": \"Myanmar\", \"t_ataques\": 50, \"t_lesiones\": 309, \"t_muertes\": 81}, {\"Orden\": 108, \"Continente\": \"Africa\", \"Pais\": \"Namibia\", \"t_ataques\": 3, \"t_lesiones\": 35, \"t_muertes\": 18}, {\"Orden\": 109, \"Continente\": \"Asia\", \"Pais\": \"Nepal\", \"t_ataques\": 493, \"t_lesiones\": 625, \"t_muertes\": 212}, {\"Orden\": 110, \"Continente\": \"Europe\", \"Pais\": \"Netherlands\", \"t_ataques\": 76, \"t_lesiones\": 46, \"t_muertes\": 27}, {\"Orden\": 111, \"Continente\": \"Oceania\", \"Pais\": \"New Zealand\", \"t_ataques\": 5, \"t_lesiones\": 0, \"t_muertes\": 1}, {\"Orden\": 112, \"Continente\": \"North America\", \"Pais\": \"Nicaragua\", \"t_ataques\": 46, \"t_lesiones\": 83, \"t_muertes\": 26}, {\"Orden\": 113, \"Continente\": \"Africa\", \"Pais\": \"Niger\", \"t_ataques\": 1, \"t_lesiones\": 0, \"t_muertes\": 0}, {\"Orden\": 114, \"Continente\": \"Africa\", \"Pais\": \"Nigeria\", \"t_ataques\": 74, \"t_lesiones\": 43, \"t_muertes\": 40}, {\"Orden\": 115, \"Continente\": \"Europe\", \"Pais\": \"Norway\", \"t_ataques\": 11, \"t_lesiones\": 5, \"t_muertes\": 1}, {\"Orden\": 116, \"Continente\": \"Asia\", \"Pais\": \"Pakistan\", \"t_ataques\": 0, \"t_lesiones\": 0, \"t_muertes\": 0}, {\"Orden\": 117, \"Continente\": \"North America\", \"Pais\": \"Panama\", \"t_ataques\": 23, \"t_lesiones\": 30, \"t_muertes\": 25}, {\"Orden\": 118, \"Continente\": \"Oceania\", \"Pais\": \"Papua New Guinea\", \"t_ataques\": 5, \"t_lesiones\": 3, \"t_muertes\": 1}, {\"Orden\": 119, \"Continente\": \"South America\", \"Pais\": \"Paraguay\", \"t_ataques\": 11, \"t_lesiones\": 1, \"t_muertes\": 5}, {\"Orden\": 120, \"Continente\": \"South America\", \"Pais\": \"Peru\", \"t_ataques\": 371, \"t_lesiones\": 390, \"t_muertes\": 210}, {\"Orden\": 121, \"Continente\": \"Asia\", \"Pais\": \"Philippines\", \"t_ataques\": 593, \"t_lesiones\": 2560, \"t_muertes\": 765}, {\"Orden\": 122, \"Continente\": \"Europe\", \"Pais\": \"Poland\", \"t_ataques\": 14, \"t_lesiones\": 8, \"t_muertes\": 3}, {\"Orden\": 123, \"Continente\": \"Europe\", \"Pais\": \"Portugal\", \"t_ataques\": 0, \"t_lesiones\": 0, \"t_muertes\": 0}, {\"Orden\": 124, \"Continente\": \"North America\", \"Pais\": \"Puerto Rico\", \"t_ataques\": 21, \"t_lesiones\": 4, \"t_muertes\": 2}, {\"Orden\": 125, \"Continente\": \"Asia\", \"Pais\": \"Qatar\", \"t_ataques\": 2, \"t_lesiones\": 17, \"t_muertes\": 2}, {\"Orden\": 126, \"Continente\": \"Europe\", \"Pais\": \"Romania\", \"t_ataques\": 5, \"t_lesiones\": 2, \"t_muertes\": 5}, {\"Orden\": 127, \"Continente\": \"Africa\", \"Pais\": \"Rwanda\", \"t_ataques\": 5, \"t_lesiones\": 7, \"t_muertes\": 12}, {\"Orden\": 128, \"Continente\": \"Asia\", \"Pais\": \"Saudi Arabia\", \"t_ataques\": 0, \"t_lesiones\": 0, \"t_muertes\": 0}, {\"Orden\": 129, \"Continente\": \"Africa\", \"Pais\": \"Senegal\", \"t_ataques\": 2, \"t_lesiones\": 0, \"t_muertes\": 0}, {\"Orden\": 130, \"Continente\": \"Europe\", \"Pais\": \"Serbia\", \"t_ataques\": 73, \"t_lesiones\": 29, \"t_muertes\": 10}, {\"Orden\": 131, \"Continente\": \"Africa\", \"Pais\": \"Sierra Leone\", \"t_ataques\": 20, \"t_lesiones\": 1, \"t_muertes\": 20}, {\"Orden\": 132, \"Continente\": \"Asia\", \"Pais\": \"Singapore\", \"t_ataques\": 5, \"t_lesiones\": 0, \"t_muertes\": 0}, {\"Orden\": 133, \"Continente\": \"Europe\", \"Pais\": \"Slovenia\", \"t_ataques\": 1, \"t_lesiones\": 0, \"t_muertes\": 0}, {\"Orden\": 134, \"Continente\": \"Africa\", \"Pais\": \"Somalia\", \"t_ataques\": 371, \"t_lesiones\": 826, \"t_muertes\": 602}, {\"Orden\": 135, \"Continente\": \"Africa\", \"Pais\": \"South Africa\", \"t_ataques\": 58, \"t_lesiones\": 194, \"t_muertes\": 12}, {\"Orden\": 136, \"Continente\": \"Europe\", \"Pais\": \"Spain\", \"t_ataques\": 1428, \"t_lesiones\": 1567, \"t_muertes\": 297}, {\"Orden\": 137, \"Continente\": \"Asia\", \"Pais\": \"Sri Lanka\", \"t_ataques\": 350, \"t_lesiones\": 4212, \"t_muertes\": 1096}, {\"Orden\": 138, \"Continente\": \"Africa\", \"Pais\": \"Sudan\", \"t_ataques\": 0, \"t_lesiones\": 0, \"t_muertes\": 0}, {\"Orden\": 139, \"Continente\": \"South America\", \"Pais\": \"Suriname\", \"t_ataques\": 6, \"t_lesiones\": 0, \"t_muertes\": 1}, {\"Orden\": 140, \"Continente\": \"Africa\", \"Pais\": \"Swaziland\", \"t_ataques\": 4, \"t_lesiones\": 10, \"t_muertes\": 6}, {\"Orden\": 141, \"Continente\": \"Europe\", \"Pais\": \"Sweden\", \"t_ataques\": 45, \"t_lesiones\": 11, \"t_muertes\": 34}, {\"Orden\": 142, \"Continente\": \"Europe\", \"Pais\": \"Switzerland\", \"t_ataques\": 84, \"t_lesiones\": 66, \"t_muertes\": 53}, {\"Orden\": 143, \"Continente\": \"Asia\", \"Pais\": \"Taiwan\", \"t_ataques\": 4, \"t_lesiones\": 5, \"t_muertes\": 25}, {\"Orden\": 144, \"Continente\": \"Asia\", \"Pais\": \"Tajikistan\", \"t_ataques\": 59, \"t_lesiones\": 82, \"t_muertes\": 58}, {\"Orden\": 145, \"Continente\": \"Africa\", \"Pais\": \"Tanzania\", \"t_ataques\": 9, \"t_lesiones\": 78, \"t_muertes\": 11}, {\"Orden\": 146, \"Continente\": \"Asia\", \"Pais\": \"Thailand\", \"t_ataques\": 2009, \"t_lesiones\": 3371, \"t_muertes\": 1442}, {\"Orden\": 147, \"Continente\": \"Africa\", \"Pais\": \"Togo\", \"t_ataques\": 3, \"t_lesiones\": 6, \"t_muertes\": 0}, {\"Orden\": 148, \"Continente\": \"North America\", \"Pais\": \"Trinidad and Tobago\", \"t_ataques\": 2, \"t_lesiones\": 12, \"t_muertes\": 0}, {\"Orden\": 149, \"Continente\": \"Africa\", \"Pais\": \"Tunisia\", \"t_ataques\": 0, \"t_lesiones\": 0, \"t_muertes\": 0}, {\"Orden\": 150, \"Continente\": \"Asia\", \"Pais\": \"Turkey\", \"t_ataques\": 1279, \"t_lesiones\": 2541, \"t_muertes\": 605}, {\"Orden\": 151, \"Continente\": \"Europe\", \"Pais\": \"Turkey\", \"t_ataques\": 1279, \"t_lesiones\": 2541, \"t_muertes\": 605}, {\"Orden\": 152, \"Continente\": \"Asia\", \"Pais\": \"Turkmenistan\", \"t_ataques\": 1, \"t_lesiones\": 1, \"t_muertes\": 1}, {\"Orden\": 153, \"Continente\": \"Africa\", \"Pais\": \"Uganda\", \"t_ataques\": 63, \"t_lesiones\": 467, \"t_muertes\": 549}, {\"Orden\": 154, \"Continente\": \"Europe\", \"Pais\": \"Ukraine\", \"t_ataques\": 26, \"t_lesiones\": 28, \"t_muertes\": 4}, {\"Orden\": 155, \"Continente\": \"Asia\", \"Pais\": \"United Arab Emirates\", \"t_ataques\": 10, \"t_lesiones\": 4, \"t_muertes\": 8}, {\"Orden\": 156, \"Continente\": \"South America\", \"Pais\": \"Uruguay\", \"t_ataques\": 26, \"t_lesiones\": 3, \"t_muertes\": 1}, {\"Orden\": 157, \"Continente\": \"Asia\", \"Pais\": \"Uzbekistan\", \"t_ataques\": 16, \"t_lesiones\": 168, \"t_muertes\": 40}, {\"Orden\": 158, \"Continente\": \"South America\", \"Pais\": \"Venezuela\", \"t_ataques\": 162, \"t_lesiones\": 72, \"t_muertes\": 48}, {\"Orden\": 159, \"Continente\": \"Asia\", \"Pais\": \"Vietnam\", \"t_ataques\": 3, \"t_lesiones\": 132, \"t_muertes\": 1}, {\"Orden\": 160, \"Continente\": \"Africa\", \"Pais\": \"Western Sahara\", \"t_ataques\": 3, \"t_lesiones\": 3, \"t_muertes\": 9}, {\"Orden\": 161, \"Continente\": \"Asia\", \"Pais\": \"Yemen\", \"t_ataques\": 136, \"t_lesiones\": 328, \"t_muertes\": 138}, {\"Orden\": 162, \"Continente\": \"Africa\", \"Pais\": \"Zambia\", \"t_ataques\": 9, \"t_lesiones\": 34, \"t_muertes\": 10}, {\"Orden\": 163, \"Continente\": \"Africa\", \"Pais\": \"Zimbabwe\", \"t_ataques\": 28, \"t_lesiones\": 108, \"t_muertes\": 78}]}}, {\"mode\": \"vega-lite\"});\n",
       "</script>"
      ],
      "text/plain": [
       "alt.Chart(...)"
      ]
     },
     "execution_count": 61,
     "metadata": {},
     "output_type": "execute_result"
    }
   ],
   "source": [
    "alt.Chart(terrorismo).mark_point(). encode( x = alt.X(\"t_ataques:Q\"), y = alt.Y(\"Pais:N\"), color =\"Continente\", tooltip=[\"t_ataques\"]).interactive().properties(title={\"text\" : [\"cantidad de ataques a los paises\"], \"subtitle\" :[\"fuente:Estudios sobre terrorismo\"], \"color\": \"black\", \"subtitleColor\" : \"red\"  })\n",
    "\n"
   ]
  },
  {
   "cell_type": "markdown",
   "id": "04ee3221",
   "metadata": {},
   "source": [
    "En este grafico podemos observar como los países con que sufren una mayor cantidad de ataques terroristas son los Asiáticos, en especial los que es tan ubicados en el medio oriente. Siendo estos los que poseen mayor conflicto de este tipo, lo que induciría que o es tan en constante conflicto armado o su seguridad para detener estos ataque son malas. Algo que se puede esperar de esta ubicación, ya que muchos de estos países son del tercer mundo y su sistema estatal es muy defectuoso y constantemente está en peligro por su falta de capacidad de unificar el uso de la violencia. Aunque encontrar a los países del medio oriente (Asia), entre los primeros lugares no es extraño. El segundo continente con mayor numero de atentados es Europa, mostrando que no importa si tu pais es desarrollado o no, los ataques se pueden realizar. En este caso, los países Europeos carecen de un gran desarrollo de seguridad, ante estas situaciones. Las potencias son un foco principal para estos grupos, ya que con el gran daño que puede causar una atentado, el grupo terrorista puede ganar fama y reconocimiento entre sus pares. Por último, el continente con menos ataques es Oceanía, mostrando una gran virtud en su defensa en estos atentados."
   ]
  },
  {
   "cell_type": "markdown",
   "id": "a202fb44",
   "metadata": {},
   "source": [
    "El segundo grafico es sobre la relacion entre los paises y los muertos por terrorismo"
   ]
  },
  {
   "cell_type": "code",
   "execution_count": 63,
   "id": "8b01fc1d",
   "metadata": {},
   "outputs": [
    {
     "data": {
      "text/html": [
       "\n",
       "<div id=\"altair-viz-e6bea03a800949ab9741728d08ac4227\"></div>\n",
       "<script type=\"text/javascript\">\n",
       "  (function(spec, embedOpt){\n",
       "    let outputDiv = document.currentScript.previousElementSibling;\n",
       "    if (outputDiv.id !== \"altair-viz-e6bea03a800949ab9741728d08ac4227\") {\n",
       "      outputDiv = document.getElementById(\"altair-viz-e6bea03a800949ab9741728d08ac4227\");\n",
       "    }\n",
       "    const paths = {\n",
       "      \"vega\": \"https://cdn.jsdelivr.net/npm//vega@5?noext\",\n",
       "      \"vega-lib\": \"https://cdn.jsdelivr.net/npm//vega-lib?noext\",\n",
       "      \"vega-lite\": \"https://cdn.jsdelivr.net/npm//vega-lite@4.8.1?noext\",\n",
       "      \"vega-embed\": \"https://cdn.jsdelivr.net/npm//vega-embed@6?noext\",\n",
       "    };\n",
       "\n",
       "    function loadScript(lib) {\n",
       "      return new Promise(function(resolve, reject) {\n",
       "        var s = document.createElement('script');\n",
       "        s.src = paths[lib];\n",
       "        s.async = true;\n",
       "        s.onload = () => resolve(paths[lib]);\n",
       "        s.onerror = () => reject(`Error loading script: ${paths[lib]}`);\n",
       "        document.getElementsByTagName(\"head\")[0].appendChild(s);\n",
       "      });\n",
       "    }\n",
       "\n",
       "    function showError(err) {\n",
       "      outputDiv.innerHTML = `<div class=\"error\" style=\"color:red;\">${err}</div>`;\n",
       "      throw err;\n",
       "    }\n",
       "\n",
       "    function displayChart(vegaEmbed) {\n",
       "      vegaEmbed(outputDiv, spec, embedOpt)\n",
       "        .catch(err => showError(`Javascript Error: ${err.message}<br>This usually means there's a typo in your chart specification. See the javascript console for the full traceback.`));\n",
       "    }\n",
       "\n",
       "    if(typeof define === \"function\" && define.amd) {\n",
       "      requirejs.config({paths});\n",
       "      require([\"vega-embed\"], displayChart, err => showError(`Error loading script: ${err.message}`));\n",
       "    } else if (typeof vegaEmbed === \"function\") {\n",
       "      displayChart(vegaEmbed);\n",
       "    } else {\n",
       "      loadScript(\"vega\")\n",
       "        .then(() => loadScript(\"vega-lite\"))\n",
       "        .then(() => loadScript(\"vega-embed\"))\n",
       "        .catch(showError)\n",
       "        .then(() => displayChart(vegaEmbed));\n",
       "    }\n",
       "  })({\"config\": {\"view\": {\"continuousWidth\": 400, \"continuousHeight\": 300}}, \"data\": {\"name\": \"data-605c99f9e89fd66a13f5d1ca435603b1\"}, \"mark\": \"point\", \"encoding\": {\"color\": {\"type\": \"nominal\", \"field\": \"Continente\"}, \"tooltip\": [{\"type\": \"quantitative\", \"field\": \"t_muertes\"}], \"x\": {\"type\": \"quantitative\", \"field\": \"t_muertes\"}, \"y\": {\"type\": \"nominal\", \"field\": \"Pais\"}}, \"selection\": {\"selector005\": {\"type\": \"interval\", \"bind\": \"scales\", \"encodings\": [\"x\", \"y\"]}}, \"title\": {\"text\": [\"Cantidad de muertes por terroristas a los paises\"], \"subtitle\": [\"fuente:Estudios sobre terrorismo\"], \"color\": \"black\", \"subtitleColor\": \"blue\"}, \"$schema\": \"https://vega.github.io/schema/vega-lite/v4.8.1.json\", \"datasets\": {\"data-605c99f9e89fd66a13f5d1ca435603b1\": [{\"Orden\": 1, \"Continente\": \"Asia\", \"Pais\": \"Afghanistan\", \"t_ataques\": 2024, \"t_lesiones\": 4789, \"t_muertes\": 4200}, {\"Orden\": 2, \"Continente\": \"Europe\", \"Pais\": \"Albania\", \"t_ataques\": 54, \"t_lesiones\": 20, \"t_muertes\": 6}, {\"Orden\": 3, \"Continente\": \"Africa\", \"Pais\": \"Algeria\", \"t_ataques\": 319, \"t_lesiones\": 1890, \"t_muertes\": 1302}, {\"Orden\": 4, \"Continente\": \"Africa\", \"Pais\": \"Angola\", \"t_ataques\": 73, \"t_lesiones\": 216, \"t_muertes\": 358}, {\"Orden\": 5, \"Continente\": \"South America\", \"Pais\": \"Argentina\", \"t_ataques\": 267, \"t_lesiones\": 516, \"t_muertes\": 175}, {\"Orden\": 6, \"Continente\": \"Europe\", \"Pais\": \"Armenia\", \"t_ataques\": 8, \"t_lesiones\": 1, \"t_muertes\": 2}, {\"Orden\": 7, \"Continente\": \"Asia\", \"Pais\": \"Armenia\", \"t_ataques\": 8, \"t_lesiones\": 1, \"t_muertes\": 2}, {\"Orden\": 8, \"Continente\": \"Oceania\", \"Pais\": \"Australia\", \"t_ataques\": 33, \"t_lesiones\": 11, \"t_muertes\": 9}, {\"Orden\": 9, \"Continente\": \"Europe\", \"Pais\": \"Austria\", \"t_ataques\": 62, \"t_lesiones\": 117, \"t_muertes\": 17}, {\"Orden\": 10, \"Continente\": \"Asia\", \"Pais\": \"Azerbaijan\", \"t_ataques\": 9, \"t_lesiones\": 68, \"t_muertes\": 26}, {\"Orden\": 11, \"Continente\": \"Europe\", \"Pais\": \"Azerbaijan\", \"t_ataques\": 9, \"t_lesiones\": 68, \"t_muertes\": 26}, {\"Orden\": 12, \"Continente\": \"North America\", \"Pais\": \"Bahamas\", \"t_ataques\": 2, \"t_lesiones\": 0, \"t_muertes\": 1}, {\"Orden\": 13, \"Continente\": \"Asia\", \"Pais\": \"Bahrain\", \"t_ataques\": 18, \"t_lesiones\": 11, \"t_muertes\": 13}, {\"Orden\": 14, \"Continente\": \"Asia\", \"Pais\": \"Bangladesh\", \"t_ataques\": 155, \"t_lesiones\": 2208, \"t_muertes\": 231}, {\"Orden\": 15, \"Continente\": \"North America\", \"Pais\": \"Barbados\", \"t_ataques\": 2, \"t_lesiones\": 0, \"t_muertes\": 73}, {\"Orden\": 16, \"Continente\": \"Europe\", \"Pais\": \"Belarus\", \"t_ataques\": 2, \"t_lesiones\": 0, \"t_muertes\": 0}, {\"Orden\": 17, \"Continente\": \"Europe\", \"Pais\": \"Belgium\", \"t_ataques\": 0, \"t_lesiones\": 0, \"t_muertes\": 0}, {\"Orden\": 18, \"Continente\": \"North America\", \"Pais\": \"Belize\", \"t_ataques\": 1, \"t_lesiones\": 0, \"t_muertes\": 0}, {\"Orden\": 19, \"Continente\": \"Africa\", \"Pais\": \"Benin\", \"t_ataques\": 1, \"t_lesiones\": 3, \"t_muertes\": 0}, {\"Orden\": 20, \"Continente\": \"Asia\", \"Pais\": \"Bhutan\", \"t_ataques\": 12, \"t_lesiones\": 3, \"t_muertes\": 0}, {\"Orden\": 21, \"Continente\": \"South America\", \"Pais\": \"Bolivia\", \"t_ataques\": 79, \"t_lesiones\": 41, \"t_muertes\": 10}, {\"Orden\": 22, \"Continente\": \"Europe\", \"Pais\": \"Bosnia and Herzegovina\", \"t_ataques\": 114, \"t_lesiones\": 39, \"t_muertes\": 18}, {\"Orden\": 23, \"Continente\": \"Africa\", \"Pais\": \"Botswana\", \"t_ataques\": 3, \"t_lesiones\": 0, \"t_muertes\": 2}, {\"Orden\": 24, \"Continente\": \"South America\", \"Pais\": \"Brazil\", \"t_ataques\": 53, \"t_lesiones\": 50, \"t_muertes\": 10}, {\"Orden\": 25, \"Continente\": \"Europe\", \"Pais\": \"Bulgaria\", \"t_ataques\": 12, \"t_lesiones\": 0, \"t_muertes\": 2}, {\"Orden\": 26, \"Continente\": \"Africa\", \"Pais\": \"Burundi\", \"t_ataques\": 14, \"t_lesiones\": 29, \"t_muertes\": 27}, {\"Orden\": 27, \"Continente\": \"Asia\", \"Pais\": \"Cambodia\", \"t_ataques\": 60, \"t_lesiones\": 188, \"t_muertes\": 77}, {\"Orden\": 28, \"Continente\": \"North America\", \"Pais\": \"Canada\", \"t_ataques\": 34, \"t_lesiones\": 51, \"t_muertes\": 338}, {\"Orden\": 29, \"Continente\": \"Africa\", \"Pais\": \"Central African Republic\", \"t_ataques\": 1, \"t_lesiones\": 7, \"t_muertes\": 0}, {\"Orden\": 30, \"Continente\": \"Africa\", \"Pais\": \"Chad\", \"t_ataques\": 12, \"t_lesiones\": 25, \"t_muertes\": 180}, {\"Orden\": 31, \"Continente\": \"South America\", \"Pais\": \"Chile\", \"t_ataques\": 0, \"t_lesiones\": 0, \"t_muertes\": 0}, {\"Orden\": 32, \"Continente\": \"Asia\", \"Pais\": \"China\", \"t_ataques\": 28, \"t_lesiones\": 172, \"t_muertes\": 100}, {\"Orden\": 33, \"Continente\": \"South America\", \"Pais\": \"Colombia\", \"t_ataques\": 1913, \"t_lesiones\": 2748, \"t_muertes\": 1615}, {\"Orden\": 34, \"Continente\": \"Africa\", \"Pais\": \"Congo\", \"t_ataques\": 2, \"t_lesiones\": 1, \"t_muertes\": 1}, {\"Orden\": 35, \"Continente\": \"Africa\", \"Pais\": \"Congo\", \"t_ataques\": 2, \"t_lesiones\": 1, \"t_muertes\": 1}, {\"Orden\": 36, \"Continente\": \"North America\", \"Pais\": \"Costa Rica\", \"t_ataques\": 0, \"t_lesiones\": 0, \"t_muertes\": 0}, {\"Orden\": 37, \"Continente\": \"Africa\", \"Pais\": \"Cote d'Ivoire\", \"t_ataques\": 3, \"t_lesiones\": 0, \"t_muertes\": 3}, {\"Orden\": 38, \"Continente\": \"Europe\", \"Pais\": \"Croatia\", \"t_ataques\": 23, \"t_lesiones\": 41, \"t_muertes\": 2}, {\"Orden\": 39, \"Continente\": \"North America\", \"Pais\": \"Cuba\", \"t_ataques\": 19, \"t_lesiones\": 4, \"t_muertes\": 2}, {\"Orden\": 40, \"Continente\": \"Asia\", \"Pais\": \"Cyprus\", \"t_ataques\": 72, \"t_lesiones\": 67, \"t_muertes\": 25}, {\"Orden\": 41, \"Continente\": \"Europe\", \"Pais\": \"Cyprus\", \"t_ataques\": 72, \"t_lesiones\": 67, \"t_muertes\": 25}, {\"Orden\": 42, \"Continente\": \"Europe\", \"Pais\": \"Czech Republic\", \"t_ataques\": 5, \"t_lesiones\": 4, \"t_muertes\": 0}, {\"Orden\": 43, \"Continente\": \"Europe\", \"Pais\": \"Denmark\", \"t_ataques\": 29, \"t_lesiones\": 60, \"t_muertes\": 1}, {\"Orden\": 44, \"Continente\": \"Africa\", \"Pais\": \"Djibouti\", \"t_ataques\": 4, \"t_lesiones\": 66, \"t_muertes\": 12}, {\"Orden\": 45, \"Continente\": \"North America\", \"Pais\": \"Dominican Republic\", \"t_ataques\": 27, \"t_lesiones\": 3, \"t_muertes\": 2}, {\"Orden\": 46, \"Continente\": \"South America\", \"Pais\": \"Ecuador\", \"t_ataques\": 77, \"t_lesiones\": 50, \"t_muertes\": 27}, {\"Orden\": 47, \"Continente\": \"Africa\", \"Pais\": \"Egypt\", \"t_ataques\": 133, \"t_lesiones\": 856, \"t_muertes\": 331}, {\"Orden\": 48, \"Continente\": \"North America\", \"Pais\": \"El Salvador\", \"t_ataques\": 118, \"t_lesiones\": 68, \"t_muertes\": 65}, {\"Orden\": 49, \"Continente\": \"Africa\", \"Pais\": \"Eritrea\", \"t_ataques\": 5, \"t_lesiones\": 63, \"t_muertes\": 16}, {\"Orden\": 50, \"Continente\": \"Europe\", \"Pais\": \"Estonia\", \"t_ataques\": 7, \"t_lesiones\": 4, \"t_muertes\": 0}, {\"Orden\": 51, \"Continente\": \"Africa\", \"Pais\": \"Ethiopia\", \"t_ataques\": 85, \"t_lesiones\": 371, \"t_muertes\": 215}, {\"Orden\": 52, \"Continente\": \"Oceania\", \"Pais\": \"Fiji\", \"t_ataques\": 2, \"t_lesiones\": 0, \"t_muertes\": 0}, {\"Orden\": 53, \"Continente\": \"Europe\", \"Pais\": \"Finland\", \"t_ataques\": 1, \"t_lesiones\": 0, \"t_muertes\": 0}, {\"Orden\": 54, \"Continente\": \"Europe\", \"Pais\": \"France\", \"t_ataques\": 1223, \"t_lesiones\": 1372, \"t_muertes\": 185}, {\"Orden\": 55, \"Continente\": \"Oceania\", \"Pais\": \"French Polynesia\", \"t_ataques\": 2, \"t_lesiones\": 0, \"t_muertes\": 1}, {\"Orden\": 56, \"Continente\": \"Africa\", \"Pais\": \"Gabon\", \"t_ataques\": 1, \"t_lesiones\": 0, \"t_muertes\": 2}, {\"Orden\": 57, \"Continente\": \"Europe\", \"Pais\": \"Georgia\", \"t_ataques\": 99, \"t_lesiones\": 216, \"t_muertes\": 79}, {\"Orden\": 58, \"Continente\": \"Asia\", \"Pais\": \"Georgia\", \"t_ataques\": 99, \"t_lesiones\": 216, \"t_muertes\": 79}, {\"Orden\": 59, \"Continente\": \"Europe\", \"Pais\": \"Germany\", \"t_ataques\": 27, \"t_lesiones\": 15, \"t_muertes\": 1}, {\"Orden\": 60, \"Continente\": \"Africa\", \"Pais\": \"Ghana\", \"t_ataques\": 1, \"t_lesiones\": 0, \"t_muertes\": 0}, {\"Orden\": 61, \"Continente\": \"Europe\", \"Pais\": \"Gibraltar\", \"t_ataques\": 2, \"t_lesiones\": 0, \"t_muertes\": 3}, {\"Orden\": 62, \"Continente\": \"Europe\", \"Pais\": \"Greece\", \"t_ataques\": 730, \"t_lesiones\": 524, \"t_muertes\": 150}, {\"Orden\": 63, \"Continente\": \"North America\", \"Pais\": \"Grenada\", \"t_ataques\": 1, \"t_lesiones\": 1, \"t_muertes\": 0}, {\"Orden\": 64, \"Continente\": \"North America\", \"Pais\": \"Guadeloupe\", \"t_ataques\": 2, \"t_lesiones\": 2, \"t_muertes\": 0}, {\"Orden\": 65, \"Continente\": \"North America\", \"Pais\": \"Guatemala\", \"t_ataques\": 110, \"t_lesiones\": 37, \"t_muertes\": 94}, {\"Orden\": 66, \"Continente\": \"Africa\", \"Pais\": \"Guinea\", \"t_ataques\": 1, \"t_lesiones\": 0, \"t_muertes\": 0}, {\"Orden\": 67, \"Continente\": \"South America\", \"Pais\": \"Guyana\", \"t_ataques\": 5, \"t_lesiones\": 5, \"t_muertes\": 4}, {\"Orden\": 68, \"Continente\": \"North America\", \"Pais\": \"Haiti\", \"t_ataques\": 23, \"t_lesiones\": 29, \"t_muertes\": 5}, {\"Orden\": 69, \"Continente\": \"North America\", \"Pais\": \"Honduras\", \"t_ataques\": 73, \"t_lesiones\": 69, \"t_muertes\": 37}, {\"Orden\": 70, \"Continente\": \"Asia\", \"Pais\": \"Hong Kong\", \"t_ataques\": 1, \"t_lesiones\": 1, \"t_muertes\": 0}, {\"Orden\": 71, \"Continente\": \"Europe\", \"Pais\": \"Hungary\", \"t_ataques\": 12, \"t_lesiones\": 11, \"t_muertes\": 0}, {\"Orden\": 72, \"Continente\": \"Europe\", \"Pais\": \"Iceland\", \"t_ataques\": 1, \"t_lesiones\": 0, \"t_muertes\": 0}, {\"Orden\": 73, \"Continente\": \"Asia\", \"Pais\": \"India\", \"t_ataques\": 0, \"t_lesiones\": 0, \"t_muertes\": 0}, {\"Orden\": 74, \"Continente\": \"Asia\", \"Pais\": \"Indonesia\", \"t_ataques\": 243, \"t_lesiones\": 1504, \"t_muertes\": 472}, {\"Orden\": 75, \"Continente\": \"Asia\", \"Pais\": \"Iran\", \"t_ataques\": 148, \"t_lesiones\": 415, \"t_muertes\": 103}, {\"Orden\": 76, \"Continente\": \"Asia\", \"Pais\": \"Iraq\", \"t_ataques\": 10763, \"t_lesiones\": 53590, \"t_muertes\": 28971}, {\"Orden\": 77, \"Continente\": \"Europe\", \"Pais\": \"Ireland\", \"t_ataques\": 26, \"t_lesiones\": 10, \"t_muertes\": 8}, {\"Orden\": 78, \"Continente\": \"Asia\", \"Pais\": \"Israel\", \"t_ataques\": 1687, \"t_lesiones\": 7581, \"t_muertes\": 1484}, {\"Orden\": 79, \"Continente\": \"Europe\", \"Pais\": \"Italy\", \"t_ataques\": 434, \"t_lesiones\": 427, \"t_muertes\": 86}, {\"Orden\": 80, \"Continente\": \"North America\", \"Pais\": \"Jamaica\", \"t_ataques\": 8, \"t_lesiones\": 0, \"t_muertes\": 0}, {\"Orden\": 81, \"Continente\": \"Asia\", \"Pais\": \"Japan\", \"t_ataques\": 85, \"t_lesiones\": 5107, \"t_muertes\": 19}, {\"Orden\": 82, \"Continente\": \"Asia\", \"Pais\": \"Jordan\", \"t_ataques\": 87, \"t_lesiones\": 145, \"t_muertes\": 93}, {\"Orden\": 83, \"Continente\": \"Europe\", \"Pais\": \"Kazakhstan\", \"t_ataques\": 7, \"t_lesiones\": 13, \"t_muertes\": 2}, {\"Orden\": 84, \"Continente\": \"Asia\", \"Pais\": \"Kazakhstan\", \"t_ataques\": 7, \"t_lesiones\": 13, \"t_muertes\": 2}, {\"Orden\": 85, \"Continente\": \"Africa\", \"Pais\": \"Kenya\", \"t_ataques\": 12, \"t_lesiones\": 5196, \"t_muertes\": 243}, {\"Orden\": 86, \"Continente\": \"Asia\", \"Pais\": \"Kuwait\", \"t_ataques\": 45, \"t_lesiones\": 190, \"t_muertes\": 34}, {\"Orden\": 87, \"Continente\": \"Europe\", \"Pais\": \"Latvia\", \"t_ataques\": 9, \"t_lesiones\": 35, \"t_muertes\": 1}, {\"Orden\": 88, \"Continente\": \"Asia\", \"Pais\": \"Lebanon\", \"t_ataques\": 676, \"t_lesiones\": 2192, \"t_muertes\": 1302}, {\"Orden\": 89, \"Continente\": \"Africa\", \"Pais\": \"Lesotho\", \"t_ataques\": 2, \"t_lesiones\": 0, \"t_muertes\": 2}, {\"Orden\": 90, \"Continente\": \"Africa\", \"Pais\": \"Liberia\", \"t_ataques\": 8, \"t_lesiones\": 1, \"t_muertes\": 11}, {\"Orden\": 91, \"Continente\": \"Europe\", \"Pais\": \"Lithuania\", \"t_ataques\": 6, \"t_lesiones\": 6, \"t_muertes\": 0}, {\"Orden\": 92, \"Continente\": \"Europe\", \"Pais\": \"Luxembourg\", \"t_ataques\": 5, \"t_lesiones\": 0, \"t_muertes\": 0}, {\"Orden\": 93, \"Continente\": \"Europe\", \"Pais\": \"Macedonia\", \"t_ataques\": 67, \"t_lesiones\": 40, \"t_muertes\": 10}, {\"Orden\": 94, \"Continente\": \"Africa\", \"Pais\": \"Madagascar\", \"t_ataques\": 7, \"t_lesiones\": 37, \"t_muertes\": 0}, {\"Orden\": 95, \"Continente\": \"Asia\", \"Pais\": \"Malaysia\", \"t_ataques\": 14, \"t_lesiones\": 11, \"t_muertes\": 110}, {\"Orden\": 96, \"Continente\": \"Asia\", \"Pais\": \"Maldives\", \"t_ataques\": 1, \"t_lesiones\": 3, \"t_muertes\": 0}, {\"Orden\": 97, \"Continente\": \"Africa\", \"Pais\": \"Mali\", \"t_ataques\": 2, \"t_lesiones\": 0, \"t_muertes\": 0}, {\"Orden\": 98, \"Continente\": \"Europe\", \"Pais\": \"Malta\", \"t_ataques\": 12, \"t_lesiones\": 9, \"t_muertes\": 2}, {\"Orden\": 99, \"Continente\": \"North America\", \"Pais\": \"Martinique\", \"t_ataques\": 1, \"t_lesiones\": 0, \"t_muertes\": 0}, {\"Orden\": 100, \"Continente\": \"Africa\", \"Pais\": \"Mauritania\", \"t_ataques\": 9, \"t_lesiones\": 0, \"t_muertes\": 40}, {\"Orden\": 101, \"Continente\": \"North America\", \"Pais\": \"Mexico\", \"t_ataques\": 81, \"t_lesiones\": 27, \"t_muertes\": 20}, {\"Orden\": 102, \"Continente\": \"Europe\", \"Pais\": \"Moldova\", \"t_ataques\": 6, \"t_lesiones\": 25, \"t_muertes\": 10}, {\"Orden\": 103, \"Continente\": \"Asia\", \"Pais\": \"Mongolia\", \"t_ataques\": 1, \"t_lesiones\": 0, \"t_muertes\": 1}, {\"Orden\": 104, \"Continente\": \"Europe\", \"Pais\": \"Montenegro\", \"t_ataques\": 13, \"t_lesiones\": 0, \"t_muertes\": 1}, {\"Orden\": 105, \"Continente\": \"Africa\", \"Pais\": \"Morocco\", \"t_ataques\": 28, \"t_lesiones\": 11, \"t_muertes\": 48}, {\"Orden\": 106, \"Continente\": \"Africa\", \"Pais\": \"Mozambique\", \"t_ataques\": 36, \"t_lesiones\": 15, \"t_muertes\": 37}, {\"Orden\": 107, \"Continente\": \"Asia\", \"Pais\": \"Myanmar\", \"t_ataques\": 50, \"t_lesiones\": 309, \"t_muertes\": 81}, {\"Orden\": 108, \"Continente\": \"Africa\", \"Pais\": \"Namibia\", \"t_ataques\": 3, \"t_lesiones\": 35, \"t_muertes\": 18}, {\"Orden\": 109, \"Continente\": \"Asia\", \"Pais\": \"Nepal\", \"t_ataques\": 493, \"t_lesiones\": 625, \"t_muertes\": 212}, {\"Orden\": 110, \"Continente\": \"Europe\", \"Pais\": \"Netherlands\", \"t_ataques\": 76, \"t_lesiones\": 46, \"t_muertes\": 27}, {\"Orden\": 111, \"Continente\": \"Oceania\", \"Pais\": \"New Zealand\", \"t_ataques\": 5, \"t_lesiones\": 0, \"t_muertes\": 1}, {\"Orden\": 112, \"Continente\": \"North America\", \"Pais\": \"Nicaragua\", \"t_ataques\": 46, \"t_lesiones\": 83, \"t_muertes\": 26}, {\"Orden\": 113, \"Continente\": \"Africa\", \"Pais\": \"Niger\", \"t_ataques\": 1, \"t_lesiones\": 0, \"t_muertes\": 0}, {\"Orden\": 114, \"Continente\": \"Africa\", \"Pais\": \"Nigeria\", \"t_ataques\": 74, \"t_lesiones\": 43, \"t_muertes\": 40}, {\"Orden\": 115, \"Continente\": \"Europe\", \"Pais\": \"Norway\", \"t_ataques\": 11, \"t_lesiones\": 5, \"t_muertes\": 1}, {\"Orden\": 116, \"Continente\": \"Asia\", \"Pais\": \"Pakistan\", \"t_ataques\": 0, \"t_lesiones\": 0, \"t_muertes\": 0}, {\"Orden\": 117, \"Continente\": \"North America\", \"Pais\": \"Panama\", \"t_ataques\": 23, \"t_lesiones\": 30, \"t_muertes\": 25}, {\"Orden\": 118, \"Continente\": \"Oceania\", \"Pais\": \"Papua New Guinea\", \"t_ataques\": 5, \"t_lesiones\": 3, \"t_muertes\": 1}, {\"Orden\": 119, \"Continente\": \"South America\", \"Pais\": \"Paraguay\", \"t_ataques\": 11, \"t_lesiones\": 1, \"t_muertes\": 5}, {\"Orden\": 120, \"Continente\": \"South America\", \"Pais\": \"Peru\", \"t_ataques\": 371, \"t_lesiones\": 390, \"t_muertes\": 210}, {\"Orden\": 121, \"Continente\": \"Asia\", \"Pais\": \"Philippines\", \"t_ataques\": 593, \"t_lesiones\": 2560, \"t_muertes\": 765}, {\"Orden\": 122, \"Continente\": \"Europe\", \"Pais\": \"Poland\", \"t_ataques\": 14, \"t_lesiones\": 8, \"t_muertes\": 3}, {\"Orden\": 123, \"Continente\": \"Europe\", \"Pais\": \"Portugal\", \"t_ataques\": 0, \"t_lesiones\": 0, \"t_muertes\": 0}, {\"Orden\": 124, \"Continente\": \"North America\", \"Pais\": \"Puerto Rico\", \"t_ataques\": 21, \"t_lesiones\": 4, \"t_muertes\": 2}, {\"Orden\": 125, \"Continente\": \"Asia\", \"Pais\": \"Qatar\", \"t_ataques\": 2, \"t_lesiones\": 17, \"t_muertes\": 2}, {\"Orden\": 126, \"Continente\": \"Europe\", \"Pais\": \"Romania\", \"t_ataques\": 5, \"t_lesiones\": 2, \"t_muertes\": 5}, {\"Orden\": 127, \"Continente\": \"Africa\", \"Pais\": \"Rwanda\", \"t_ataques\": 5, \"t_lesiones\": 7, \"t_muertes\": 12}, {\"Orden\": 128, \"Continente\": \"Asia\", \"Pais\": \"Saudi Arabia\", \"t_ataques\": 0, \"t_lesiones\": 0, \"t_muertes\": 0}, {\"Orden\": 129, \"Continente\": \"Africa\", \"Pais\": \"Senegal\", \"t_ataques\": 2, \"t_lesiones\": 0, \"t_muertes\": 0}, {\"Orden\": 130, \"Continente\": \"Europe\", \"Pais\": \"Serbia\", \"t_ataques\": 73, \"t_lesiones\": 29, \"t_muertes\": 10}, {\"Orden\": 131, \"Continente\": \"Africa\", \"Pais\": \"Sierra Leone\", \"t_ataques\": 20, \"t_lesiones\": 1, \"t_muertes\": 20}, {\"Orden\": 132, \"Continente\": \"Asia\", \"Pais\": \"Singapore\", \"t_ataques\": 5, \"t_lesiones\": 0, \"t_muertes\": 0}, {\"Orden\": 133, \"Continente\": \"Europe\", \"Pais\": \"Slovenia\", \"t_ataques\": 1, \"t_lesiones\": 0, \"t_muertes\": 0}, {\"Orden\": 134, \"Continente\": \"Africa\", \"Pais\": \"Somalia\", \"t_ataques\": 371, \"t_lesiones\": 826, \"t_muertes\": 602}, {\"Orden\": 135, \"Continente\": \"Africa\", \"Pais\": \"South Africa\", \"t_ataques\": 58, \"t_lesiones\": 194, \"t_muertes\": 12}, {\"Orden\": 136, \"Continente\": \"Europe\", \"Pais\": \"Spain\", \"t_ataques\": 1428, \"t_lesiones\": 1567, \"t_muertes\": 297}, {\"Orden\": 137, \"Continente\": \"Asia\", \"Pais\": \"Sri Lanka\", \"t_ataques\": 350, \"t_lesiones\": 4212, \"t_muertes\": 1096}, {\"Orden\": 138, \"Continente\": \"Africa\", \"Pais\": \"Sudan\", \"t_ataques\": 0, \"t_lesiones\": 0, \"t_muertes\": 0}, {\"Orden\": 139, \"Continente\": \"South America\", \"Pais\": \"Suriname\", \"t_ataques\": 6, \"t_lesiones\": 0, \"t_muertes\": 1}, {\"Orden\": 140, \"Continente\": \"Africa\", \"Pais\": \"Swaziland\", \"t_ataques\": 4, \"t_lesiones\": 10, \"t_muertes\": 6}, {\"Orden\": 141, \"Continente\": \"Europe\", \"Pais\": \"Sweden\", \"t_ataques\": 45, \"t_lesiones\": 11, \"t_muertes\": 34}, {\"Orden\": 142, \"Continente\": \"Europe\", \"Pais\": \"Switzerland\", \"t_ataques\": 84, \"t_lesiones\": 66, \"t_muertes\": 53}, {\"Orden\": 143, \"Continente\": \"Asia\", \"Pais\": \"Taiwan\", \"t_ataques\": 4, \"t_lesiones\": 5, \"t_muertes\": 25}, {\"Orden\": 144, \"Continente\": \"Asia\", \"Pais\": \"Tajikistan\", \"t_ataques\": 59, \"t_lesiones\": 82, \"t_muertes\": 58}, {\"Orden\": 145, \"Continente\": \"Africa\", \"Pais\": \"Tanzania\", \"t_ataques\": 9, \"t_lesiones\": 78, \"t_muertes\": 11}, {\"Orden\": 146, \"Continente\": \"Asia\", \"Pais\": \"Thailand\", \"t_ataques\": 2009, \"t_lesiones\": 3371, \"t_muertes\": 1442}, {\"Orden\": 147, \"Continente\": \"Africa\", \"Pais\": \"Togo\", \"t_ataques\": 3, \"t_lesiones\": 6, \"t_muertes\": 0}, {\"Orden\": 148, \"Continente\": \"North America\", \"Pais\": \"Trinidad and Tobago\", \"t_ataques\": 2, \"t_lesiones\": 12, \"t_muertes\": 0}, {\"Orden\": 149, \"Continente\": \"Africa\", \"Pais\": \"Tunisia\", \"t_ataques\": 0, \"t_lesiones\": 0, \"t_muertes\": 0}, {\"Orden\": 150, \"Continente\": \"Asia\", \"Pais\": \"Turkey\", \"t_ataques\": 1279, \"t_lesiones\": 2541, \"t_muertes\": 605}, {\"Orden\": 151, \"Continente\": \"Europe\", \"Pais\": \"Turkey\", \"t_ataques\": 1279, \"t_lesiones\": 2541, \"t_muertes\": 605}, {\"Orden\": 152, \"Continente\": \"Asia\", \"Pais\": \"Turkmenistan\", \"t_ataques\": 1, \"t_lesiones\": 1, \"t_muertes\": 1}, {\"Orden\": 153, \"Continente\": \"Africa\", \"Pais\": \"Uganda\", \"t_ataques\": 63, \"t_lesiones\": 467, \"t_muertes\": 549}, {\"Orden\": 154, \"Continente\": \"Europe\", \"Pais\": \"Ukraine\", \"t_ataques\": 26, \"t_lesiones\": 28, \"t_muertes\": 4}, {\"Orden\": 155, \"Continente\": \"Asia\", \"Pais\": \"United Arab Emirates\", \"t_ataques\": 10, \"t_lesiones\": 4, \"t_muertes\": 8}, {\"Orden\": 156, \"Continente\": \"South America\", \"Pais\": \"Uruguay\", \"t_ataques\": 26, \"t_lesiones\": 3, \"t_muertes\": 1}, {\"Orden\": 157, \"Continente\": \"Asia\", \"Pais\": \"Uzbekistan\", \"t_ataques\": 16, \"t_lesiones\": 168, \"t_muertes\": 40}, {\"Orden\": 158, \"Continente\": \"South America\", \"Pais\": \"Venezuela\", \"t_ataques\": 162, \"t_lesiones\": 72, \"t_muertes\": 48}, {\"Orden\": 159, \"Continente\": \"Asia\", \"Pais\": \"Vietnam\", \"t_ataques\": 3, \"t_lesiones\": 132, \"t_muertes\": 1}, {\"Orden\": 160, \"Continente\": \"Africa\", \"Pais\": \"Western Sahara\", \"t_ataques\": 3, \"t_lesiones\": 3, \"t_muertes\": 9}, {\"Orden\": 161, \"Continente\": \"Asia\", \"Pais\": \"Yemen\", \"t_ataques\": 136, \"t_lesiones\": 328, \"t_muertes\": 138}, {\"Orden\": 162, \"Continente\": \"Africa\", \"Pais\": \"Zambia\", \"t_ataques\": 9, \"t_lesiones\": 34, \"t_muertes\": 10}, {\"Orden\": 163, \"Continente\": \"Africa\", \"Pais\": \"Zimbabwe\", \"t_ataques\": 28, \"t_lesiones\": 108, \"t_muertes\": 78}]}}, {\"mode\": \"vega-lite\"});\n",
       "</script>"
      ],
      "text/plain": [
       "alt.Chart(...)"
      ]
     },
     "execution_count": 63,
     "metadata": {},
     "output_type": "execute_result"
    }
   ],
   "source": [
    "alt.Chart(terrorismo).mark_point(). encode( x = alt.X(\"t_muertes:Q\"), y = alt.Y(\"Pais:N\"), color =\"Continente\", tooltip=[\"t_muertes\"]).interactive().properties(title={\"text\" : [\"Cantidad de muertes por terroristas a los paises\"], \"subtitle\" :[\"fuente:Estudios sobre terrorismo\"], \"color\": \"black\", \"subtitleColor\" : \"blue\"  })\n"
   ]
  },
  {
   "cell_type": "markdown",
   "id": "8581c8b3",
   "metadata": {},
   "source": [
    "Como primer indicador, podemos observar como la gran mayoría de países no ha tenida más de 100 muertes por ataques terroristas. Dando un buen indicador sobre cuanto daño puede hacer los ataques terroristas, en referencia al costo de vida. Sin embargo, hay una gran preocupación por los países del medio oriente, ya que tenemos como primer lugar, a Irán aproximadamente 28000 muertes. Esto demostraría que los ataques terroristas no son simplemente atentados, sino que hay una disputa por el mandato del gobierno. Deja de ser tipificado como un atentado para ganar \"fama\", para ser una gran amenaza para el Estado iraní. El segundo lugar es Afganistán con aproximadamente 4000 muertos, pero esto no se acerca en nada al peligro que se encuentra el pais Irán. Otro dato, es que los países europeos no poseen una gran cantidad de bajas. Mostrando que aunque exista un gran numero de ataques terroristas, estos no cobran vidas."
   ]
  },
  {
   "cell_type": "markdown",
   "id": "775254b8",
   "metadata": {},
   "source": [
    "El tercer grafico es sobre la relacion entre los paises y los lesionados por terrorismo"
   ]
  },
  {
   "cell_type": "code",
   "execution_count": 64,
   "id": "d2daf30a",
   "metadata": {},
   "outputs": [
    {
     "data": {
      "text/html": [
       "\n",
       "<div id=\"altair-viz-94bab6196ded4a829e745aad3730f687\"></div>\n",
       "<script type=\"text/javascript\">\n",
       "  (function(spec, embedOpt){\n",
       "    let outputDiv = document.currentScript.previousElementSibling;\n",
       "    if (outputDiv.id !== \"altair-viz-94bab6196ded4a829e745aad3730f687\") {\n",
       "      outputDiv = document.getElementById(\"altair-viz-94bab6196ded4a829e745aad3730f687\");\n",
       "    }\n",
       "    const paths = {\n",
       "      \"vega\": \"https://cdn.jsdelivr.net/npm//vega@5?noext\",\n",
       "      \"vega-lib\": \"https://cdn.jsdelivr.net/npm//vega-lib?noext\",\n",
       "      \"vega-lite\": \"https://cdn.jsdelivr.net/npm//vega-lite@4.8.1?noext\",\n",
       "      \"vega-embed\": \"https://cdn.jsdelivr.net/npm//vega-embed@6?noext\",\n",
       "    };\n",
       "\n",
       "    function loadScript(lib) {\n",
       "      return new Promise(function(resolve, reject) {\n",
       "        var s = document.createElement('script');\n",
       "        s.src = paths[lib];\n",
       "        s.async = true;\n",
       "        s.onload = () => resolve(paths[lib]);\n",
       "        s.onerror = () => reject(`Error loading script: ${paths[lib]}`);\n",
       "        document.getElementsByTagName(\"head\")[0].appendChild(s);\n",
       "      });\n",
       "    }\n",
       "\n",
       "    function showError(err) {\n",
       "      outputDiv.innerHTML = `<div class=\"error\" style=\"color:red;\">${err}</div>`;\n",
       "      throw err;\n",
       "    }\n",
       "\n",
       "    function displayChart(vegaEmbed) {\n",
       "      vegaEmbed(outputDiv, spec, embedOpt)\n",
       "        .catch(err => showError(`Javascript Error: ${err.message}<br>This usually means there's a typo in your chart specification. See the javascript console for the full traceback.`));\n",
       "    }\n",
       "\n",
       "    if(typeof define === \"function\" && define.amd) {\n",
       "      requirejs.config({paths});\n",
       "      require([\"vega-embed\"], displayChart, err => showError(`Error loading script: ${err.message}`));\n",
       "    } else if (typeof vegaEmbed === \"function\") {\n",
       "      displayChart(vegaEmbed);\n",
       "    } else {\n",
       "      loadScript(\"vega\")\n",
       "        .then(() => loadScript(\"vega-lite\"))\n",
       "        .then(() => loadScript(\"vega-embed\"))\n",
       "        .catch(showError)\n",
       "        .then(() => displayChart(vegaEmbed));\n",
       "    }\n",
       "  })({\"config\": {\"view\": {\"continuousWidth\": 400, \"continuousHeight\": 300}}, \"data\": {\"name\": \"data-605c99f9e89fd66a13f5d1ca435603b1\"}, \"mark\": \"point\", \"encoding\": {\"color\": {\"type\": \"nominal\", \"field\": \"Continente\"}, \"tooltip\": [{\"type\": \"quantitative\", \"field\": \"t_lesiones\"}], \"x\": {\"type\": \"quantitative\", \"field\": \"t_lesiones\"}, \"y\": {\"type\": \"nominal\", \"field\": \"Pais\"}}, \"selection\": {\"selector006\": {\"type\": \"interval\", \"bind\": \"scales\", \"encodings\": [\"x\", \"y\"]}}, \"title\": {\"text\": [\"Cantidad de lesionados por ataques terroristas a los paises\"], \"subtitle\": [\"fuente:Estudios sobre terrorismo\"], \"color\": \"black\", \"subtitleColor\": \"blue\"}, \"$schema\": \"https://vega.github.io/schema/vega-lite/v4.8.1.json\", \"datasets\": {\"data-605c99f9e89fd66a13f5d1ca435603b1\": [{\"Orden\": 1, \"Continente\": \"Asia\", \"Pais\": \"Afghanistan\", \"t_ataques\": 2024, \"t_lesiones\": 4789, \"t_muertes\": 4200}, {\"Orden\": 2, \"Continente\": \"Europe\", \"Pais\": \"Albania\", \"t_ataques\": 54, \"t_lesiones\": 20, \"t_muertes\": 6}, {\"Orden\": 3, \"Continente\": \"Africa\", \"Pais\": \"Algeria\", \"t_ataques\": 319, \"t_lesiones\": 1890, \"t_muertes\": 1302}, {\"Orden\": 4, \"Continente\": \"Africa\", \"Pais\": \"Angola\", \"t_ataques\": 73, \"t_lesiones\": 216, \"t_muertes\": 358}, {\"Orden\": 5, \"Continente\": \"South America\", \"Pais\": \"Argentina\", \"t_ataques\": 267, \"t_lesiones\": 516, \"t_muertes\": 175}, {\"Orden\": 6, \"Continente\": \"Europe\", \"Pais\": \"Armenia\", \"t_ataques\": 8, \"t_lesiones\": 1, \"t_muertes\": 2}, {\"Orden\": 7, \"Continente\": \"Asia\", \"Pais\": \"Armenia\", \"t_ataques\": 8, \"t_lesiones\": 1, \"t_muertes\": 2}, {\"Orden\": 8, \"Continente\": \"Oceania\", \"Pais\": \"Australia\", \"t_ataques\": 33, \"t_lesiones\": 11, \"t_muertes\": 9}, {\"Orden\": 9, \"Continente\": \"Europe\", \"Pais\": \"Austria\", \"t_ataques\": 62, \"t_lesiones\": 117, \"t_muertes\": 17}, {\"Orden\": 10, \"Continente\": \"Asia\", \"Pais\": \"Azerbaijan\", \"t_ataques\": 9, \"t_lesiones\": 68, \"t_muertes\": 26}, {\"Orden\": 11, \"Continente\": \"Europe\", \"Pais\": \"Azerbaijan\", \"t_ataques\": 9, \"t_lesiones\": 68, \"t_muertes\": 26}, {\"Orden\": 12, \"Continente\": \"North America\", \"Pais\": \"Bahamas\", \"t_ataques\": 2, \"t_lesiones\": 0, \"t_muertes\": 1}, {\"Orden\": 13, \"Continente\": \"Asia\", \"Pais\": \"Bahrain\", \"t_ataques\": 18, \"t_lesiones\": 11, \"t_muertes\": 13}, {\"Orden\": 14, \"Continente\": \"Asia\", \"Pais\": \"Bangladesh\", \"t_ataques\": 155, \"t_lesiones\": 2208, \"t_muertes\": 231}, {\"Orden\": 15, \"Continente\": \"North America\", \"Pais\": \"Barbados\", \"t_ataques\": 2, \"t_lesiones\": 0, \"t_muertes\": 73}, {\"Orden\": 16, \"Continente\": \"Europe\", \"Pais\": \"Belarus\", \"t_ataques\": 2, \"t_lesiones\": 0, \"t_muertes\": 0}, {\"Orden\": 17, \"Continente\": \"Europe\", \"Pais\": \"Belgium\", \"t_ataques\": 0, \"t_lesiones\": 0, \"t_muertes\": 0}, {\"Orden\": 18, \"Continente\": \"North America\", \"Pais\": \"Belize\", \"t_ataques\": 1, \"t_lesiones\": 0, \"t_muertes\": 0}, {\"Orden\": 19, \"Continente\": \"Africa\", \"Pais\": \"Benin\", \"t_ataques\": 1, \"t_lesiones\": 3, \"t_muertes\": 0}, {\"Orden\": 20, \"Continente\": \"Asia\", \"Pais\": \"Bhutan\", \"t_ataques\": 12, \"t_lesiones\": 3, \"t_muertes\": 0}, {\"Orden\": 21, \"Continente\": \"South America\", \"Pais\": \"Bolivia\", \"t_ataques\": 79, \"t_lesiones\": 41, \"t_muertes\": 10}, {\"Orden\": 22, \"Continente\": \"Europe\", \"Pais\": \"Bosnia and Herzegovina\", \"t_ataques\": 114, \"t_lesiones\": 39, \"t_muertes\": 18}, {\"Orden\": 23, \"Continente\": \"Africa\", \"Pais\": \"Botswana\", \"t_ataques\": 3, \"t_lesiones\": 0, \"t_muertes\": 2}, {\"Orden\": 24, \"Continente\": \"South America\", \"Pais\": \"Brazil\", \"t_ataques\": 53, \"t_lesiones\": 50, \"t_muertes\": 10}, {\"Orden\": 25, \"Continente\": \"Europe\", \"Pais\": \"Bulgaria\", \"t_ataques\": 12, \"t_lesiones\": 0, \"t_muertes\": 2}, {\"Orden\": 26, \"Continente\": \"Africa\", \"Pais\": \"Burundi\", \"t_ataques\": 14, \"t_lesiones\": 29, \"t_muertes\": 27}, {\"Orden\": 27, \"Continente\": \"Asia\", \"Pais\": \"Cambodia\", \"t_ataques\": 60, \"t_lesiones\": 188, \"t_muertes\": 77}, {\"Orden\": 28, \"Continente\": \"North America\", \"Pais\": \"Canada\", \"t_ataques\": 34, \"t_lesiones\": 51, \"t_muertes\": 338}, {\"Orden\": 29, \"Continente\": \"Africa\", \"Pais\": \"Central African Republic\", \"t_ataques\": 1, \"t_lesiones\": 7, \"t_muertes\": 0}, {\"Orden\": 30, \"Continente\": \"Africa\", \"Pais\": \"Chad\", \"t_ataques\": 12, \"t_lesiones\": 25, \"t_muertes\": 180}, {\"Orden\": 31, \"Continente\": \"South America\", \"Pais\": \"Chile\", \"t_ataques\": 0, \"t_lesiones\": 0, \"t_muertes\": 0}, {\"Orden\": 32, \"Continente\": \"Asia\", \"Pais\": \"China\", \"t_ataques\": 28, \"t_lesiones\": 172, \"t_muertes\": 100}, {\"Orden\": 33, \"Continente\": \"South America\", \"Pais\": \"Colombia\", \"t_ataques\": 1913, \"t_lesiones\": 2748, \"t_muertes\": 1615}, {\"Orden\": 34, \"Continente\": \"Africa\", \"Pais\": \"Congo\", \"t_ataques\": 2, \"t_lesiones\": 1, \"t_muertes\": 1}, {\"Orden\": 35, \"Continente\": \"Africa\", \"Pais\": \"Congo\", \"t_ataques\": 2, \"t_lesiones\": 1, \"t_muertes\": 1}, {\"Orden\": 36, \"Continente\": \"North America\", \"Pais\": \"Costa Rica\", \"t_ataques\": 0, \"t_lesiones\": 0, \"t_muertes\": 0}, {\"Orden\": 37, \"Continente\": \"Africa\", \"Pais\": \"Cote d'Ivoire\", \"t_ataques\": 3, \"t_lesiones\": 0, \"t_muertes\": 3}, {\"Orden\": 38, \"Continente\": \"Europe\", \"Pais\": \"Croatia\", \"t_ataques\": 23, \"t_lesiones\": 41, \"t_muertes\": 2}, {\"Orden\": 39, \"Continente\": \"North America\", \"Pais\": \"Cuba\", \"t_ataques\": 19, \"t_lesiones\": 4, \"t_muertes\": 2}, {\"Orden\": 40, \"Continente\": \"Asia\", \"Pais\": \"Cyprus\", \"t_ataques\": 72, \"t_lesiones\": 67, \"t_muertes\": 25}, {\"Orden\": 41, \"Continente\": \"Europe\", \"Pais\": \"Cyprus\", \"t_ataques\": 72, \"t_lesiones\": 67, \"t_muertes\": 25}, {\"Orden\": 42, \"Continente\": \"Europe\", \"Pais\": \"Czech Republic\", \"t_ataques\": 5, \"t_lesiones\": 4, \"t_muertes\": 0}, {\"Orden\": 43, \"Continente\": \"Europe\", \"Pais\": \"Denmark\", \"t_ataques\": 29, \"t_lesiones\": 60, \"t_muertes\": 1}, {\"Orden\": 44, \"Continente\": \"Africa\", \"Pais\": \"Djibouti\", \"t_ataques\": 4, \"t_lesiones\": 66, \"t_muertes\": 12}, {\"Orden\": 45, \"Continente\": \"North America\", \"Pais\": \"Dominican Republic\", \"t_ataques\": 27, \"t_lesiones\": 3, \"t_muertes\": 2}, {\"Orden\": 46, \"Continente\": \"South America\", \"Pais\": \"Ecuador\", \"t_ataques\": 77, \"t_lesiones\": 50, \"t_muertes\": 27}, {\"Orden\": 47, \"Continente\": \"Africa\", \"Pais\": \"Egypt\", \"t_ataques\": 133, \"t_lesiones\": 856, \"t_muertes\": 331}, {\"Orden\": 48, \"Continente\": \"North America\", \"Pais\": \"El Salvador\", \"t_ataques\": 118, \"t_lesiones\": 68, \"t_muertes\": 65}, {\"Orden\": 49, \"Continente\": \"Africa\", \"Pais\": \"Eritrea\", \"t_ataques\": 5, \"t_lesiones\": 63, \"t_muertes\": 16}, {\"Orden\": 50, \"Continente\": \"Europe\", \"Pais\": \"Estonia\", \"t_ataques\": 7, \"t_lesiones\": 4, \"t_muertes\": 0}, {\"Orden\": 51, \"Continente\": \"Africa\", \"Pais\": \"Ethiopia\", \"t_ataques\": 85, \"t_lesiones\": 371, \"t_muertes\": 215}, {\"Orden\": 52, \"Continente\": \"Oceania\", \"Pais\": \"Fiji\", \"t_ataques\": 2, \"t_lesiones\": 0, \"t_muertes\": 0}, {\"Orden\": 53, \"Continente\": \"Europe\", \"Pais\": \"Finland\", \"t_ataques\": 1, \"t_lesiones\": 0, \"t_muertes\": 0}, {\"Orden\": 54, \"Continente\": \"Europe\", \"Pais\": \"France\", \"t_ataques\": 1223, \"t_lesiones\": 1372, \"t_muertes\": 185}, {\"Orden\": 55, \"Continente\": \"Oceania\", \"Pais\": \"French Polynesia\", \"t_ataques\": 2, \"t_lesiones\": 0, \"t_muertes\": 1}, {\"Orden\": 56, \"Continente\": \"Africa\", \"Pais\": \"Gabon\", \"t_ataques\": 1, \"t_lesiones\": 0, \"t_muertes\": 2}, {\"Orden\": 57, \"Continente\": \"Europe\", \"Pais\": \"Georgia\", \"t_ataques\": 99, \"t_lesiones\": 216, \"t_muertes\": 79}, {\"Orden\": 58, \"Continente\": \"Asia\", \"Pais\": \"Georgia\", \"t_ataques\": 99, \"t_lesiones\": 216, \"t_muertes\": 79}, {\"Orden\": 59, \"Continente\": \"Europe\", \"Pais\": \"Germany\", \"t_ataques\": 27, \"t_lesiones\": 15, \"t_muertes\": 1}, {\"Orden\": 60, \"Continente\": \"Africa\", \"Pais\": \"Ghana\", \"t_ataques\": 1, \"t_lesiones\": 0, \"t_muertes\": 0}, {\"Orden\": 61, \"Continente\": \"Europe\", \"Pais\": \"Gibraltar\", \"t_ataques\": 2, \"t_lesiones\": 0, \"t_muertes\": 3}, {\"Orden\": 62, \"Continente\": \"Europe\", \"Pais\": \"Greece\", \"t_ataques\": 730, \"t_lesiones\": 524, \"t_muertes\": 150}, {\"Orden\": 63, \"Continente\": \"North America\", \"Pais\": \"Grenada\", \"t_ataques\": 1, \"t_lesiones\": 1, \"t_muertes\": 0}, {\"Orden\": 64, \"Continente\": \"North America\", \"Pais\": \"Guadeloupe\", \"t_ataques\": 2, \"t_lesiones\": 2, \"t_muertes\": 0}, {\"Orden\": 65, \"Continente\": \"North America\", \"Pais\": \"Guatemala\", \"t_ataques\": 110, \"t_lesiones\": 37, \"t_muertes\": 94}, {\"Orden\": 66, \"Continente\": \"Africa\", \"Pais\": \"Guinea\", \"t_ataques\": 1, \"t_lesiones\": 0, \"t_muertes\": 0}, {\"Orden\": 67, \"Continente\": \"South America\", \"Pais\": \"Guyana\", \"t_ataques\": 5, \"t_lesiones\": 5, \"t_muertes\": 4}, {\"Orden\": 68, \"Continente\": \"North America\", \"Pais\": \"Haiti\", \"t_ataques\": 23, \"t_lesiones\": 29, \"t_muertes\": 5}, {\"Orden\": 69, \"Continente\": \"North America\", \"Pais\": \"Honduras\", \"t_ataques\": 73, \"t_lesiones\": 69, \"t_muertes\": 37}, {\"Orden\": 70, \"Continente\": \"Asia\", \"Pais\": \"Hong Kong\", \"t_ataques\": 1, \"t_lesiones\": 1, \"t_muertes\": 0}, {\"Orden\": 71, \"Continente\": \"Europe\", \"Pais\": \"Hungary\", \"t_ataques\": 12, \"t_lesiones\": 11, \"t_muertes\": 0}, {\"Orden\": 72, \"Continente\": \"Europe\", \"Pais\": \"Iceland\", \"t_ataques\": 1, \"t_lesiones\": 0, \"t_muertes\": 0}, {\"Orden\": 73, \"Continente\": \"Asia\", \"Pais\": \"India\", \"t_ataques\": 0, \"t_lesiones\": 0, \"t_muertes\": 0}, {\"Orden\": 74, \"Continente\": \"Asia\", \"Pais\": \"Indonesia\", \"t_ataques\": 243, \"t_lesiones\": 1504, \"t_muertes\": 472}, {\"Orden\": 75, \"Continente\": \"Asia\", \"Pais\": \"Iran\", \"t_ataques\": 148, \"t_lesiones\": 415, \"t_muertes\": 103}, {\"Orden\": 76, \"Continente\": \"Asia\", \"Pais\": \"Iraq\", \"t_ataques\": 10763, \"t_lesiones\": 53590, \"t_muertes\": 28971}, {\"Orden\": 77, \"Continente\": \"Europe\", \"Pais\": \"Ireland\", \"t_ataques\": 26, \"t_lesiones\": 10, \"t_muertes\": 8}, {\"Orden\": 78, \"Continente\": \"Asia\", \"Pais\": \"Israel\", \"t_ataques\": 1687, \"t_lesiones\": 7581, \"t_muertes\": 1484}, {\"Orden\": 79, \"Continente\": \"Europe\", \"Pais\": \"Italy\", \"t_ataques\": 434, \"t_lesiones\": 427, \"t_muertes\": 86}, {\"Orden\": 80, \"Continente\": \"North America\", \"Pais\": \"Jamaica\", \"t_ataques\": 8, \"t_lesiones\": 0, \"t_muertes\": 0}, {\"Orden\": 81, \"Continente\": \"Asia\", \"Pais\": \"Japan\", \"t_ataques\": 85, \"t_lesiones\": 5107, \"t_muertes\": 19}, {\"Orden\": 82, \"Continente\": \"Asia\", \"Pais\": \"Jordan\", \"t_ataques\": 87, \"t_lesiones\": 145, \"t_muertes\": 93}, {\"Orden\": 83, \"Continente\": \"Europe\", \"Pais\": \"Kazakhstan\", \"t_ataques\": 7, \"t_lesiones\": 13, \"t_muertes\": 2}, {\"Orden\": 84, \"Continente\": \"Asia\", \"Pais\": \"Kazakhstan\", \"t_ataques\": 7, \"t_lesiones\": 13, \"t_muertes\": 2}, {\"Orden\": 85, \"Continente\": \"Africa\", \"Pais\": \"Kenya\", \"t_ataques\": 12, \"t_lesiones\": 5196, \"t_muertes\": 243}, {\"Orden\": 86, \"Continente\": \"Asia\", \"Pais\": \"Kuwait\", \"t_ataques\": 45, \"t_lesiones\": 190, \"t_muertes\": 34}, {\"Orden\": 87, \"Continente\": \"Europe\", \"Pais\": \"Latvia\", \"t_ataques\": 9, \"t_lesiones\": 35, \"t_muertes\": 1}, {\"Orden\": 88, \"Continente\": \"Asia\", \"Pais\": \"Lebanon\", \"t_ataques\": 676, \"t_lesiones\": 2192, \"t_muertes\": 1302}, {\"Orden\": 89, \"Continente\": \"Africa\", \"Pais\": \"Lesotho\", \"t_ataques\": 2, \"t_lesiones\": 0, \"t_muertes\": 2}, {\"Orden\": 90, \"Continente\": \"Africa\", \"Pais\": \"Liberia\", \"t_ataques\": 8, \"t_lesiones\": 1, \"t_muertes\": 11}, {\"Orden\": 91, \"Continente\": \"Europe\", \"Pais\": \"Lithuania\", \"t_ataques\": 6, \"t_lesiones\": 6, \"t_muertes\": 0}, {\"Orden\": 92, \"Continente\": \"Europe\", \"Pais\": \"Luxembourg\", \"t_ataques\": 5, \"t_lesiones\": 0, \"t_muertes\": 0}, {\"Orden\": 93, \"Continente\": \"Europe\", \"Pais\": \"Macedonia\", \"t_ataques\": 67, \"t_lesiones\": 40, \"t_muertes\": 10}, {\"Orden\": 94, \"Continente\": \"Africa\", \"Pais\": \"Madagascar\", \"t_ataques\": 7, \"t_lesiones\": 37, \"t_muertes\": 0}, {\"Orden\": 95, \"Continente\": \"Asia\", \"Pais\": \"Malaysia\", \"t_ataques\": 14, \"t_lesiones\": 11, \"t_muertes\": 110}, {\"Orden\": 96, \"Continente\": \"Asia\", \"Pais\": \"Maldives\", \"t_ataques\": 1, \"t_lesiones\": 3, \"t_muertes\": 0}, {\"Orden\": 97, \"Continente\": \"Africa\", \"Pais\": \"Mali\", \"t_ataques\": 2, \"t_lesiones\": 0, \"t_muertes\": 0}, {\"Orden\": 98, \"Continente\": \"Europe\", \"Pais\": \"Malta\", \"t_ataques\": 12, \"t_lesiones\": 9, \"t_muertes\": 2}, {\"Orden\": 99, \"Continente\": \"North America\", \"Pais\": \"Martinique\", \"t_ataques\": 1, \"t_lesiones\": 0, \"t_muertes\": 0}, {\"Orden\": 100, \"Continente\": \"Africa\", \"Pais\": \"Mauritania\", \"t_ataques\": 9, \"t_lesiones\": 0, \"t_muertes\": 40}, {\"Orden\": 101, \"Continente\": \"North America\", \"Pais\": \"Mexico\", \"t_ataques\": 81, \"t_lesiones\": 27, \"t_muertes\": 20}, {\"Orden\": 102, \"Continente\": \"Europe\", \"Pais\": \"Moldova\", \"t_ataques\": 6, \"t_lesiones\": 25, \"t_muertes\": 10}, {\"Orden\": 103, \"Continente\": \"Asia\", \"Pais\": \"Mongolia\", \"t_ataques\": 1, \"t_lesiones\": 0, \"t_muertes\": 1}, {\"Orden\": 104, \"Continente\": \"Europe\", \"Pais\": \"Montenegro\", \"t_ataques\": 13, \"t_lesiones\": 0, \"t_muertes\": 1}, {\"Orden\": 105, \"Continente\": \"Africa\", \"Pais\": \"Morocco\", \"t_ataques\": 28, \"t_lesiones\": 11, \"t_muertes\": 48}, {\"Orden\": 106, \"Continente\": \"Africa\", \"Pais\": \"Mozambique\", \"t_ataques\": 36, \"t_lesiones\": 15, \"t_muertes\": 37}, {\"Orden\": 107, \"Continente\": \"Asia\", \"Pais\": \"Myanmar\", \"t_ataques\": 50, \"t_lesiones\": 309, \"t_muertes\": 81}, {\"Orden\": 108, \"Continente\": \"Africa\", \"Pais\": \"Namibia\", \"t_ataques\": 3, \"t_lesiones\": 35, \"t_muertes\": 18}, {\"Orden\": 109, \"Continente\": \"Asia\", \"Pais\": \"Nepal\", \"t_ataques\": 493, \"t_lesiones\": 625, \"t_muertes\": 212}, {\"Orden\": 110, \"Continente\": \"Europe\", \"Pais\": \"Netherlands\", \"t_ataques\": 76, \"t_lesiones\": 46, \"t_muertes\": 27}, {\"Orden\": 111, \"Continente\": \"Oceania\", \"Pais\": \"New Zealand\", \"t_ataques\": 5, \"t_lesiones\": 0, \"t_muertes\": 1}, {\"Orden\": 112, \"Continente\": \"North America\", \"Pais\": \"Nicaragua\", \"t_ataques\": 46, \"t_lesiones\": 83, \"t_muertes\": 26}, {\"Orden\": 113, \"Continente\": \"Africa\", \"Pais\": \"Niger\", \"t_ataques\": 1, \"t_lesiones\": 0, \"t_muertes\": 0}, {\"Orden\": 114, \"Continente\": \"Africa\", \"Pais\": \"Nigeria\", \"t_ataques\": 74, \"t_lesiones\": 43, \"t_muertes\": 40}, {\"Orden\": 115, \"Continente\": \"Europe\", \"Pais\": \"Norway\", \"t_ataques\": 11, \"t_lesiones\": 5, \"t_muertes\": 1}, {\"Orden\": 116, \"Continente\": \"Asia\", \"Pais\": \"Pakistan\", \"t_ataques\": 0, \"t_lesiones\": 0, \"t_muertes\": 0}, {\"Orden\": 117, \"Continente\": \"North America\", \"Pais\": \"Panama\", \"t_ataques\": 23, \"t_lesiones\": 30, \"t_muertes\": 25}, {\"Orden\": 118, \"Continente\": \"Oceania\", \"Pais\": \"Papua New Guinea\", \"t_ataques\": 5, \"t_lesiones\": 3, \"t_muertes\": 1}, {\"Orden\": 119, \"Continente\": \"South America\", \"Pais\": \"Paraguay\", \"t_ataques\": 11, \"t_lesiones\": 1, \"t_muertes\": 5}, {\"Orden\": 120, \"Continente\": \"South America\", \"Pais\": \"Peru\", \"t_ataques\": 371, \"t_lesiones\": 390, \"t_muertes\": 210}, {\"Orden\": 121, \"Continente\": \"Asia\", \"Pais\": \"Philippines\", \"t_ataques\": 593, \"t_lesiones\": 2560, \"t_muertes\": 765}, {\"Orden\": 122, \"Continente\": \"Europe\", \"Pais\": \"Poland\", \"t_ataques\": 14, \"t_lesiones\": 8, \"t_muertes\": 3}, {\"Orden\": 123, \"Continente\": \"Europe\", \"Pais\": \"Portugal\", \"t_ataques\": 0, \"t_lesiones\": 0, \"t_muertes\": 0}, {\"Orden\": 124, \"Continente\": \"North America\", \"Pais\": \"Puerto Rico\", \"t_ataques\": 21, \"t_lesiones\": 4, \"t_muertes\": 2}, {\"Orden\": 125, \"Continente\": \"Asia\", \"Pais\": \"Qatar\", \"t_ataques\": 2, \"t_lesiones\": 17, \"t_muertes\": 2}, {\"Orden\": 126, \"Continente\": \"Europe\", \"Pais\": \"Romania\", \"t_ataques\": 5, \"t_lesiones\": 2, \"t_muertes\": 5}, {\"Orden\": 127, \"Continente\": \"Africa\", \"Pais\": \"Rwanda\", \"t_ataques\": 5, \"t_lesiones\": 7, \"t_muertes\": 12}, {\"Orden\": 128, \"Continente\": \"Asia\", \"Pais\": \"Saudi Arabia\", \"t_ataques\": 0, \"t_lesiones\": 0, \"t_muertes\": 0}, {\"Orden\": 129, \"Continente\": \"Africa\", \"Pais\": \"Senegal\", \"t_ataques\": 2, \"t_lesiones\": 0, \"t_muertes\": 0}, {\"Orden\": 130, \"Continente\": \"Europe\", \"Pais\": \"Serbia\", \"t_ataques\": 73, \"t_lesiones\": 29, \"t_muertes\": 10}, {\"Orden\": 131, \"Continente\": \"Africa\", \"Pais\": \"Sierra Leone\", \"t_ataques\": 20, \"t_lesiones\": 1, \"t_muertes\": 20}, {\"Orden\": 132, \"Continente\": \"Asia\", \"Pais\": \"Singapore\", \"t_ataques\": 5, \"t_lesiones\": 0, \"t_muertes\": 0}, {\"Orden\": 133, \"Continente\": \"Europe\", \"Pais\": \"Slovenia\", \"t_ataques\": 1, \"t_lesiones\": 0, \"t_muertes\": 0}, {\"Orden\": 134, \"Continente\": \"Africa\", \"Pais\": \"Somalia\", \"t_ataques\": 371, \"t_lesiones\": 826, \"t_muertes\": 602}, {\"Orden\": 135, \"Continente\": \"Africa\", \"Pais\": \"South Africa\", \"t_ataques\": 58, \"t_lesiones\": 194, \"t_muertes\": 12}, {\"Orden\": 136, \"Continente\": \"Europe\", \"Pais\": \"Spain\", \"t_ataques\": 1428, \"t_lesiones\": 1567, \"t_muertes\": 297}, {\"Orden\": 137, \"Continente\": \"Asia\", \"Pais\": \"Sri Lanka\", \"t_ataques\": 350, \"t_lesiones\": 4212, \"t_muertes\": 1096}, {\"Orden\": 138, \"Continente\": \"Africa\", \"Pais\": \"Sudan\", \"t_ataques\": 0, \"t_lesiones\": 0, \"t_muertes\": 0}, {\"Orden\": 139, \"Continente\": \"South America\", \"Pais\": \"Suriname\", \"t_ataques\": 6, \"t_lesiones\": 0, \"t_muertes\": 1}, {\"Orden\": 140, \"Continente\": \"Africa\", \"Pais\": \"Swaziland\", \"t_ataques\": 4, \"t_lesiones\": 10, \"t_muertes\": 6}, {\"Orden\": 141, \"Continente\": \"Europe\", \"Pais\": \"Sweden\", \"t_ataques\": 45, \"t_lesiones\": 11, \"t_muertes\": 34}, {\"Orden\": 142, \"Continente\": \"Europe\", \"Pais\": \"Switzerland\", \"t_ataques\": 84, \"t_lesiones\": 66, \"t_muertes\": 53}, {\"Orden\": 143, \"Continente\": \"Asia\", \"Pais\": \"Taiwan\", \"t_ataques\": 4, \"t_lesiones\": 5, \"t_muertes\": 25}, {\"Orden\": 144, \"Continente\": \"Asia\", \"Pais\": \"Tajikistan\", \"t_ataques\": 59, \"t_lesiones\": 82, \"t_muertes\": 58}, {\"Orden\": 145, \"Continente\": \"Africa\", \"Pais\": \"Tanzania\", \"t_ataques\": 9, \"t_lesiones\": 78, \"t_muertes\": 11}, {\"Orden\": 146, \"Continente\": \"Asia\", \"Pais\": \"Thailand\", \"t_ataques\": 2009, \"t_lesiones\": 3371, \"t_muertes\": 1442}, {\"Orden\": 147, \"Continente\": \"Africa\", \"Pais\": \"Togo\", \"t_ataques\": 3, \"t_lesiones\": 6, \"t_muertes\": 0}, {\"Orden\": 148, \"Continente\": \"North America\", \"Pais\": \"Trinidad and Tobago\", \"t_ataques\": 2, \"t_lesiones\": 12, \"t_muertes\": 0}, {\"Orden\": 149, \"Continente\": \"Africa\", \"Pais\": \"Tunisia\", \"t_ataques\": 0, \"t_lesiones\": 0, \"t_muertes\": 0}, {\"Orden\": 150, \"Continente\": \"Asia\", \"Pais\": \"Turkey\", \"t_ataques\": 1279, \"t_lesiones\": 2541, \"t_muertes\": 605}, {\"Orden\": 151, \"Continente\": \"Europe\", \"Pais\": \"Turkey\", \"t_ataques\": 1279, \"t_lesiones\": 2541, \"t_muertes\": 605}, {\"Orden\": 152, \"Continente\": \"Asia\", \"Pais\": \"Turkmenistan\", \"t_ataques\": 1, \"t_lesiones\": 1, \"t_muertes\": 1}, {\"Orden\": 153, \"Continente\": \"Africa\", \"Pais\": \"Uganda\", \"t_ataques\": 63, \"t_lesiones\": 467, \"t_muertes\": 549}, {\"Orden\": 154, \"Continente\": \"Europe\", \"Pais\": \"Ukraine\", \"t_ataques\": 26, \"t_lesiones\": 28, \"t_muertes\": 4}, {\"Orden\": 155, \"Continente\": \"Asia\", \"Pais\": \"United Arab Emirates\", \"t_ataques\": 10, \"t_lesiones\": 4, \"t_muertes\": 8}, {\"Orden\": 156, \"Continente\": \"South America\", \"Pais\": \"Uruguay\", \"t_ataques\": 26, \"t_lesiones\": 3, \"t_muertes\": 1}, {\"Orden\": 157, \"Continente\": \"Asia\", \"Pais\": \"Uzbekistan\", \"t_ataques\": 16, \"t_lesiones\": 168, \"t_muertes\": 40}, {\"Orden\": 158, \"Continente\": \"South America\", \"Pais\": \"Venezuela\", \"t_ataques\": 162, \"t_lesiones\": 72, \"t_muertes\": 48}, {\"Orden\": 159, \"Continente\": \"Asia\", \"Pais\": \"Vietnam\", \"t_ataques\": 3, \"t_lesiones\": 132, \"t_muertes\": 1}, {\"Orden\": 160, \"Continente\": \"Africa\", \"Pais\": \"Western Sahara\", \"t_ataques\": 3, \"t_lesiones\": 3, \"t_muertes\": 9}, {\"Orden\": 161, \"Continente\": \"Asia\", \"Pais\": \"Yemen\", \"t_ataques\": 136, \"t_lesiones\": 328, \"t_muertes\": 138}, {\"Orden\": 162, \"Continente\": \"Africa\", \"Pais\": \"Zambia\", \"t_ataques\": 9, \"t_lesiones\": 34, \"t_muertes\": 10}, {\"Orden\": 163, \"Continente\": \"Africa\", \"Pais\": \"Zimbabwe\", \"t_ataques\": 28, \"t_lesiones\": 108, \"t_muertes\": 78}]}}, {\"mode\": \"vega-lite\"});\n",
       "</script>"
      ],
      "text/plain": [
       "alt.Chart(...)"
      ]
     },
     "execution_count": 64,
     "metadata": {},
     "output_type": "execute_result"
    }
   ],
   "source": [
    "alt.Chart(terrorismo).mark_point(). encode( x = alt.X(\"t_lesiones:Q\"), y = alt.Y(\"Pais:N\"), color =\"Continente\", tooltip=[\"t_lesiones\"]).interactive().properties(title={\"text\" : [\"Cantidad de lesionados por ataques terroristas a los paises\"], \"subtitle\" :[\"fuente:Estudios sobre terrorismo\"], \"color\": \"black\", \"subtitleColor\" : \"blue\"  })\n"
   ]
  },
  {
   "cell_type": "markdown",
   "id": "fdaec3ac",
   "metadata": {},
   "source": [
    "Siguiendo la linea de los 2 anteriores gráficos, el pais que más lesionados tiene es Irán con 53000 personas aproximadamente. Evidenciando de manera descarada que este pais sufre un constante ataque por parte de terroristas, siendo el tema de discusión el poder del gobierno. Este pais es el más afectado por terrorismo, provocando que su gobernabilidad y su esperanza de vida sea baja. Un dato es la gran cantidad de lesionados que posee Japón, este pais es reconocido como uno de los más seguros. Demostrando que no importa si eres o no desarrollado, si los grupos terroristas desean hacer un atentado. Existe una gran posibilidad que lo logre, una media que logren herir a las personas y una baja que las logren matar. Al menos, este seria el esquema de las grandes potencias. Mostrando que su sistema de seguridad no es tan bueno en la prevención de los ataques terroristas, pero en la forma de lidiar con ellos para que no haya muertos y heridos son muy hábiles. El trabajo tiene como fin, informar la situación de los países del medio oriente, ya que es muy preocupante observar como se desgitimiliza un gobierno. Si el pais de Irán dejara de luchar y cayera en manos de los terroristas, provocaría una reacción en cadena. En donde muchos grupos terroristas verían la posibilidad de tomar el poder y legitimar su violencia y actos vandalices, teniendo como punto de partida el medio oriente. Formando una mayor ola de violencia en estos países y ganando más fama en los demás, causando que puedan reclutar a más personas. Lo que provocaría una preocupación mayor a los países desarrollados, ya que ellos son objetivo constante de estos ataques. Esto problema debe de ser resuelto por una Unión internacional, ya sea para liberarse de esta preocupación y para ayudar al pais de Irán."
   ]
  }
 ],
 "metadata": {
  "kernelspec": {
   "display_name": "Python 3",
   "language": "python",
   "name": "python3"
  },
  "language_info": {
   "codemirror_mode": {
    "name": "ipython",
    "version": 3
   },
   "file_extension": ".py",
   "mimetype": "text/x-python",
   "name": "python",
   "nbconvert_exporter": "python",
   "pygments_lexer": "ipython3",
   "version": "3.9.1"
  }
 },
 "nbformat": 4,
 "nbformat_minor": 5
}
